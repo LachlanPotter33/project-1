{
 "cells": [
  {
   "cell_type": "code",
   "execution_count": null,
   "id": "1bf9b6dc-d044-4ca0-bf08-9462469f1098",
   "metadata": {},
   "outputs": [],
   "source": [
    "##"
   ]
  },
  {
   "cell_type": "code",
   "execution_count": 1,
   "id": "35cd9186-7951-4fde-9abd-1c9b9a486edb",
   "metadata": {
    "tags": []
   },
   "outputs": [],
   "source": [
    "from pathlib import Path\n",
    "import pandas as pd\n",
    "import matplotlib.pyplot as plt\n",
    "import numpy as np\n",
    "from datetime import datetime"
   ]
  },
  {
   "cell_type": "code",
   "execution_count": 2,
   "id": "062500a2-ecb0-48b5-97e7-6bcd280c46c0",
   "metadata": {},
   "outputs": [],
   "source": [
    "##INCOME DATA"
   ]
  },
  {
   "cell_type": "code",
   "execution_count": 3,
   "id": "4b8496b7-b333-4d7e-a6b7-2ec13413cd0c",
   "metadata": {
    "tags": []
   },
   "outputs": [
    {
     "data": {
      "text/html": [
       "<div>\n",
       "<style scoped>\n",
       "    .dataframe tbody tr th:only-of-type {\n",
       "        vertical-align: middle;\n",
       "    }\n",
       "\n",
       "    .dataframe tbody tr th {\n",
       "        vertical-align: top;\n",
       "    }\n",
       "\n",
       "    .dataframe thead th {\n",
       "        text-align: right;\n",
       "    }\n",
       "</style>\n",
       "<table border=\"1\" class=\"dataframe\">\n",
       "  <thead>\n",
       "    <tr style=\"text-align: right;\">\n",
       "      <th></th>\n",
       "      <th>Year</th>\n",
       "      <th>Income Per Week</th>\n",
       "      <th>Income Per Annum</th>\n",
       "      <th>% Change per Year</th>\n",
       "    </tr>\n",
       "  </thead>\n",
       "  <tbody>\n",
       "    <tr>\n",
       "      <th>1</th>\n",
       "      <td>2018</td>\n",
       "      <td>1075</td>\n",
       "      <td>55900</td>\n",
       "      <td>NaN</td>\n",
       "    </tr>\n",
       "    <tr>\n",
       "      <th>5</th>\n",
       "      <td>2019</td>\n",
       "      <td>1100</td>\n",
       "      <td>57200</td>\n",
       "      <td>2.33</td>\n",
       "    </tr>\n",
       "    <tr>\n",
       "      <th>4</th>\n",
       "      <td>2020</td>\n",
       "      <td>1150</td>\n",
       "      <td>59800</td>\n",
       "      <td>4.55</td>\n",
       "    </tr>\n",
       "    <tr>\n",
       "      <th>3</th>\n",
       "      <td>2021</td>\n",
       "      <td>1200</td>\n",
       "      <td>62400</td>\n",
       "      <td>4.35</td>\n",
       "    </tr>\n",
       "    <tr>\n",
       "      <th>2</th>\n",
       "      <td>2022</td>\n",
       "      <td>1250</td>\n",
       "      <td>65000</td>\n",
       "      <td>4.17</td>\n",
       "    </tr>\n",
       "    <tr>\n",
       "      <th>0</th>\n",
       "      <td>2023</td>\n",
       "      <td>1300</td>\n",
       "      <td>67600</td>\n",
       "      <td>4.00</td>\n",
       "    </tr>\n",
       "  </tbody>\n",
       "</table>\n",
       "</div>"
      ],
      "text/plain": [
       "   Year  Income Per Week  Income Per Annum  % Change per Year\n",
       "1  2018             1075             55900                NaN\n",
       "5  2019             1100             57200               2.33\n",
       "4  2020             1150             59800               4.55\n",
       "3  2021             1200             62400               4.35\n",
       "2  2022             1250             65000               4.17\n",
       "0  2023             1300             67600               4.00"
      ]
     },
     "execution_count": 3,
     "metadata": {},
     "output_type": "execute_result"
    }
   ],
   "source": [
    "# specifying the path to csv files\n",
    "income_1csv = Path(\"./Resources/Income/Australian Bureau of Statistics.csv\")\n",
    "income_2csv = Path(\"./Resources/Income/Australian Bureau of Statistics (1).csv\")\n",
    "income_3csv = Path(\"./Resources/Income/Australian Bureau of Statistics (2).csv\")\n",
    "income_4csv = Path(\"./Resources/Income/Australian Bureau of Statistics (3).csv\")\n",
    "\n",
    "income_1 = pd.read_csv(income_1csv)\n",
    "income_2 = pd.read_csv(income_2csv)\n",
    "income_3 = pd.read_csv(income_3csv)\n",
    "income_4 = pd.read_csv(income_4csv)\n",
    "\n",
    "#income_1.head()\n",
    "new_header = income_2.iloc[0] #grab the first row for the header\n",
    "income_2 = income_2[1:] #take the data less the header row\n",
    "income_2.columns = new_header #set the header row as the df header\n",
    "income_2.columns = income_2.columns.fillna('Unnamed: 0')\n",
    "\n",
    "income_1.loc[2:2]\n",
    "income_2_sub_df = income_2.loc[4:4][['Unnamed: 0','August 2023','August 2018']]\n",
    "income_2_sub_df.columns = ['Unnamed: 0', '2023','2018']\n",
    "income_3_sub_df = income_3.loc[2:2][['Unnamed: 0', 'August 2022', 'August 2021']]\n",
    "income_4_sub_df = income_4.loc[2:2][['Unnamed: 0', 'August 2020', 'August 2019']]\n",
    "\n",
    "\n",
    "concat_3_4_df = pd.concat([income_3_sub_df, income_4_sub_df], axis = 1)#.columns\n",
    "concat_3_4_df.columns = ['Unnamed: 0', '2022','2021','to_be_removed','2020','2019']\n",
    "concat_3_4_df = concat_3_4_df.drop(concat_3_4_df.columns[3], axis=1)\n",
    "\n",
    "\n",
    "merged_df = pd.merge(income_2_sub_df, concat_3_4_df, on = 'Unnamed: 0')\n",
    "merged_df = merged_df.transpose()\n",
    "new_header = merged_df.iloc[0] #grab the first row for the header\n",
    "merged_df = merged_df[1:] #take the data less the header row\n",
    "merged_df.columns = new_header #set the header row as the df header\n",
    "merged_df.reset_index(inplace = True)\n",
    "merged_df.columns = [\"Year\", \"Income Per Week\"]\n",
    "\n",
    "merged_df['Income Per Week'] = merged_df['Income Per Week'].str.replace(\"$\",\"\",regex=False)\n",
    "merged_df['Income Per Week'] = merged_df['Income Per Week'].str.replace(\",\",\"\",regex=False)\n",
    "merged_df['Income Per Week'] = merged_df['Income Per Week'].astype(int)\n",
    "merged_df['Year'] = merged_df['Year'].astype(int)\n",
    "merged_df = merged_df.sort_values('Year')\n",
    "\n",
    "merged_df['Income Per Annum'] = merged_df['Income Per Week'] * 52\n",
    "merged_df['Income_Shift'] = merged_df['Income Per Annum'].shift(1)\n",
    "merged_df['% Change per Year'] = round((merged_df['Income Per Annum'] /merged_df['Income_Shift']) * 100 - 100,2)\n",
    "merged_df = merged_df.drop(columns=['Income_Shift'])\n",
    "merged_df"
   ]
  },
  {
   "cell_type": "code",
   "execution_count": null,
   "id": "6165f201-a0bd-4c48-b4a8-336ac7500f0d",
   "metadata": {
    "jupyter": {
     "source_hidden": true
    },
    "tags": []
   },
   "outputs": [],
   "source": [
    "##FUEL DATA"
   ]
  },
  {
   "cell_type": "code",
   "execution_count": null,
   "id": "f45b4c77-2cee-4f6d-86d4-5a69e0863b12",
   "metadata": {
    "jupyter": {
     "source_hidden": true
    },
    "tags": []
   },
   "outputs": [],
   "source": [
    "#creating file path\n",
    "fuel_csv = Path(\"Resources/Dist Fuel Pricing 2019-2023.csv\")\n",
    "fuel_df = pd.read_csv(fuel_csv,skiprows=[0,1,2])\n",
    "\n",
    "#clean data \n",
    "fuel_dropcol=fuel_df.drop(columns=['Unnamed: 4','Unnamed: 7','Unnamed: 12','Unnamed: 3','Unnamed: 13', 'Unnamed: 15','Unnamed: 16','Unnamed: 17','Unnamed: 18'])\n",
    "fuel_dropnan=fuel_dropcol.dropna()\n",
    "\n",
    "#CHANGING DATE FORMAT\n",
    "fuel_dropnan['Unnamed: 0'] = fuel_dropnan['Unnamed: 0'].astype(str)\n",
    "# Convert the date string to datetime object\n",
    "fuel_dropnan['Unnamed: 0'] = fuel_dropnan['Unnamed: 0'].apply(lambda x: datetime.datetime.strptime(x, '%Y-%m-%d'))\n",
    "# Extract the year from the datetime object\n",
    "fuel_dropnan['Unnamed: 0''] = fuel_dropnan['Unnamed: 0'].apply(lambda x: x.strftime('%Y'))"
   ]
  },
  {
   "cell_type": "code",
   "execution_count": null,
   "id": "e4ad3568-05dd-4696-b31e-933bf8615b09",
   "metadata": {
    "jupyter": {
     "source_hidden": true
    },
    "tags": []
   },
   "outputs": [],
   "source": [
    "fuel_dropnan = fuel_dropnan.sort_values('Unnamed: 0'', ascending=True)"
   ]
  },
  {
   "cell_type": "code",
   "execution_count": null,
   "id": "80250d07-f61c-46f8-b8bb-b8357e311c4e",
   "metadata": {
    "jupyter": {
     "source_hidden": true
    },
    "tags": []
   },
   "outputs": [],
   "source": [
    "#CHANGING COLUMN HEADERS \n",
    "fuel_column_change=fuel_dropnan.rename(columns={\"Unnamed: 0\": \"Date\", \"Unnamed: 1\": \"Brent $\",\"Unnamed: 2\": \"Brent Movement\",\n",
    "                                         \"Unnamed: 5\": \"Exchange Rate\",\"Unnamed: 6\": \"Exchange rate movement\",\"Unnamed: 8\": \"Viva\",\n",
    "                                         \"Unnamed: 9\": \"BP\",\"Unnamed: 10\": \"Caltex\",\"Unnamed: 11\": \"Mobil\",\"Unnamed: 14\": \"Viva Movement\"})\n",
    "# Clean data\n",
    "fuel_dropcol = fuel_df.drop(columns=['Unnamed: 4','Unnamed: 7','Unnamed: 12','Unnamed: 3','Unnamed: 13','Unnamed: 14', 'Unnamed: 15','Unnamed: 16','Unnamed: 17','Unnamed: 18'])\n",
    "fuel_dropnan = fuel_dropcol.dropna()\n",
    "\n",
    "# Changing date format\n",
    "fuel_df['Unnamed: 0'] = pd.to_datetime(fuel_df['Unnamed: 0'], dayfirst=True)\n",
    "fuel_df['year'] = fuel_df['Unnamed: 0'].dt.year\n",
    "fuel_df['month'] = fuel_df['Unnamed: 0'].dt.month\n",
    "\n",
    "# Changing column headers\n",
    "fuel_column_change = fuel_dropnan.rename(columns={\"Unnamed: 0\": \"Date\", \"Unnamed: 1\": \"Brent $\",\"Unnamed: 2\": \"Brent Movement\", \"Unnamed: 5\": \"Exchange Rate\",\"Unnamed: 6\": \"Exchange rate movement\",\"Unnamed: 8\": \"Viva\",\"Unnamed: 9\": \"BP\",\"Unnamed: 10\": \"Caltex\",\"Unnamed: 11\": \"Mobil\"})\n",
    "fuel_column_change "
   ]
  },
  {
   "cell_type": "code",
   "execution_count": null,
   "id": "4ce65558-32ab-48a2-ab4f-fc3af6cdda82",
   "metadata": {
    "jupyter": {
     "source_hidden": true
    },
    "tags": []
   },
   "outputs": [],
   "source": [
    "# fuel_date=fuel_df['Unnamed: 0'] = pd.to_datetime(fuel_df['Unnamed: 0'],dayfirst=True)\n",
    "# fuel_df['year'] = fuel_df['Unnamed: 0'].dt.year\n",
    "# fuel_month=fuel_df['month'] = fuel_df['Unnamed: 0'].dt.month\n"
   ]
  },
  {
   "cell_type": "code",
   "execution_count": null,
   "id": "f7359009-c1f6-4a28-8b9f-a65da8d31d7b",
   "metadata": {
    "jupyter": {
     "source_hidden": true
    },
    "tags": []
   },
   "outputs": [],
   "source": [
    "type(fuel_column_change.year)"
   ]
  },
  {
   "cell_type": "code",
   "execution_count": null,
   "id": "daeaeb70-ecc7-485e-b7ea-11d786643905",
   "metadata": {
    "tags": []
   },
   "outputs": [],
   "source": [
    "#finding viva movement\n",
    "viva_move=fuel_column_change['Viva Movement'] = fuel_column_change['Viva'].diff()\n",
    "\n",
    "#caculating moving for each year\n",
    "years = [2019,2020,2021, 2022, 2023]  # List of years\n",
    "averages = []\n",
    "for year in years:\n",
    "    condition = fuel_column_change['year'] == year\n",
    "    average = fuel_column_change.loc[condition, 'Viva Movement'].mean()\n",
    "    averages.append({'Year': year, 'Average Viva Movement': average})\n",
    "\n",
    "#putting data into data frame    \n",
    "df_averages = pd.DataFrame(averages)\n",
    "df_averages"
   ]
  },
  {
   "cell_type": "code",
   "execution_count": null,
   "id": "b035f858-d46f-4db4-a6b2-c0dda5cd5fe7",
   "metadata": {
    "jupyter": {
     "source_hidden": true
    },
    "tags": []
   },
   "outputs": [],
   "source": [
    "\n",
    "# Convert the 'Exchange Rate' column to numeric\n",
    "fuel_column_change['Exchange rate movement'] = pd.to_numeric(fuel_column_change['Exchange rate movement'], errors='coerce')\n",
    "\n",
    "# Group the exchange rate data by year\n",
    "grouped_data = fuel_column_change.groupby('year')\n",
    "\n",
    "# Calculate the average exchange rate for each year\n",
    "average_exchange_rate = grouped_data['Exchange rate movement'].mean()\n",
    "perc=average_exchange_rate*100\n",
    "\n",
    "# Convert the grouped data to a DataFrame\n",
    "df_average_exchange_rate = perc.reset_index()\n",
    "\n",
    "# Print the DataFrame\n",
    "df_average_exchange_rate"
   ]
  },
  {
   "cell_type": "code",
   "execution_count": null,
   "id": "bbd4593a-981e-4f0e-94b1-2056de04e5c9",
   "metadata": {
    "jupyter": {
     "source_hidden": true
    },
    "tags": []
   },
   "outputs": [],
   "source": [
    "incomevsexchange =pd.concat([df_average_exchange_rate, merged_df], axis=1)\n",
    "incomevsexchange.sort_values(\n",
    "     by=[\"year\", \"Year\"])\n",
    "incomevsexchange"
   ]
  },
  {
   "cell_type": "code",
   "execution_count": null,
   "id": "aaa6ad01-cbbb-4b4e-b4a7-e8fcd818ac22",
   "metadata": {
    "jupyter": {
     "source_hidden": true
    },
    "tags": []
   },
   "outputs": [],
   "source": [
    "plt.bar(incomevsexchange['Year'], incomevsexchange['% Change per Year'], label='% Change per Year')\n",
    "plt.bar(incomevsexchange['Year'], incomevsexchange['Exchange rate movement'], label='Exchange rate movement')\n",
    "\n",
    "# Add labels and title\n",
    "plt.xlabel('Year')\n",
    "plt.ylabel('Value')\n",
    "plt.title('Bar Graph')\n",
    "plt.legend()\n",
    "\n",
    "# Show the plot\n",
    "plt.show()"
   ]
  },
  {
   "cell_type": "code",
   "execution_count": null,
   "id": "df115cb9-b21c-444c-8392-46929dfec343",
   "metadata": {
    "jupyter": {
     "source_hidden": true
    },
    "tags": []
   },
   "outputs": [],
   "source": [
    "incomevsfule =pd.concat([df_averages, merged_df], axis=1)\n",
    "incomevsfule"
   ]
  },
  {
   "cell_type": "code",
   "execution_count": null,
   "id": "3ef5be7a-6623-4a49-8315-40b91b54abe6",
   "metadata": {
    "jupyter": {
     "source_hidden": true
    },
    "tags": []
   },
   "outputs": [],
   "source": [
    "incomevsfule.plot(x='% Change per Year', y='Average Viva Movement', kind='line')\n",
    "plt.xlabel('Income')\n",
    "plt.ylabel('Fuel')\n",
    "plt.title('Income vs Fuel')\n",
    "plt.show()"
   ]
  },
  {
   "cell_type": "code",
   "execution_count": null,
   "id": "197f3387-885c-4aa0-9f7d-2b2866818968",
   "metadata": {
    "jupyter": {
     "source_hidden": true
    },
    "tags": []
   },
   "outputs": [],
   "source": [
    "plt.plot(data_df['Date_cpi'], data_df['Value_cpi'], label='CPI')\n",
    "plt.plot(data_df['Date_cpi'], data_df['Value_inflation'], label='Inflation')\n",
    "plt.xlabel('Year')\n",
    "plt.ylabel('Value %')\n",
    "plt.title('Annual comparison between CPI and average inflation in Australia')\n",
    "plt.legend()\n",
    "plt.show()"
   ]
  },
  {
   "cell_type": "code",
   "execution_count": 4,
   "id": "42691f65-043b-47d9-8391-4170f6188720",
   "metadata": {
    "tags": []
   },
   "outputs": [],
   "source": [
    "##CPI AND INFLATION \n"
   ]
  },
  {
   "cell_type": "code",
   "execution_count": 5,
   "id": "357ad93f-5a41-423a-be59-380afc2e84c7",
   "metadata": {
    "tags": []
   },
   "outputs": [
    {
     "data": {
      "image/png": "[encoded data removed]",
      "text/plain": [
       "<Figure size 640x480 with 1 Axes>"
      ]
     },
     "metadata": {},
     "output_type": "display_data"
    }
   ],
   "source": [
    "cpi_csv = Path(\"..\\\\project-1-draft\\\\Resources\\\\Inflation\\\\CPI Australia.csv\")\n",
    "inflation_csv = Path(\"..\\\\project-1-draft\\\\Resources\\\\Inflation\\\\Inflation Tradable & Non-tradable, annual movement.csv\")\n",
    "cpi_df = pd.read_csv(cpi_csv)\n",
    "inflation_df = pd.read_csv(inflation_csv)\n",
    "\n",
    "\n",
    "\n",
    "cpi_data = {'Date_cpi': ['2018', '2019', '2020', '2021', '2022', '2023'], 'Value_cpi': [1.8, 1.8, 0.9, 3.5, 7.8, 4.1]}\n",
    "inflation_data = {'Date_inflation': ['2018', '2019', '2020', '2021', '2022', '2023'], 'Value_inflation': [1.5, 1.85, 0.45, 3.85, 8.05, 3.45]}\n",
    "\n",
    "\n",
    "cpi_df = pd.DataFrame(cpi_data)\n",
    "inflation_df = pd.DataFrame(inflation_data)\n",
    "\n",
    "\n",
    "data_df = pd.merge(cpi_df, inflation_df, left_on='Date_cpi', right_on='Date_inflation')\n",
    "\n",
    "data_df\n",
    "\n",
    "data_df['Date_cpi'] = pd.to_datetime(data_df['Date_cpi'])\n",
    "\n",
    "data_df = data_df.sort_values('Date_cpi')\n",
    "\n",
    "plt.plot(data_df['Date_cpi'], data_df['Value_cpi'], label='CPI')\n",
    "plt.plot(data_df['Date_cpi'], data_df['Value_inflation'], label='Inflation')\n",
    "plt.xlabel('Year')\n",
    "plt.ylabel('Value %')\n",
    "plt.title('Annual comparison between CPI and average inflation in Australia')\n",
    "plt.legend()\n",
    "plt.show()"
   ]
  },
  {
   "cell_type": "code",
   "execution_count": null,
   "id": "6557e3e8-523e-4588-9405-c8a6b09b8b8b",
   "metadata": {
    "jupyter": {
     "source_hidden": true
    },
    "tags": []
   },
   "outputs": [],
   "source": [
    "inflationvsexchange =pd.concat([df_average_exchange_rate, inflation_df], axis=1)\n",
    "inflationvsexchange"
   ]
  },
  {
   "cell_type": "code",
   "execution_count": null,
   "id": "bd971330-2ad5-4ab1-8a25-4b59703aba2b",
   "metadata": {
    "jupyter": {
     "source_hidden": true
    },
    "tags": []
   },
   "outputs": [],
   "source": [
    "plt.plot(inflationvsexchange['Value_inflation'],inflationvsexchange['Exchange rate movement'])\n",
    "plt.show"
   ]
  },
  {
   "cell_type": "code",
   "execution_count": null,
   "id": "0ea0b89a-06a2-4dbf-bad3-925041c74211",
   "metadata": {
    "jupyter": {
     "source_hidden": true
    },
    "tags": []
   },
   "outputs": [],
   "source": [
    "plt.bar(inflationvsexchange['year'], inflationvsexchange['Value_inflation'], label='Value_inflation')\n",
    "plt.bar(inflationvsexchange['year'], inflationvsexchange['Exchange rate movement'], label='Exchange rate movement')\n",
    "\n",
    "# Add labels and title\n",
    "plt.xlabel('Year')\n",
    "plt.ylabel('Value')\n",
    "plt.title('Bar Graph')\n",
    "plt.legend()\n",
    "\n",
    "# Show the plot\n",
    "plt.show()"
   ]
  },
  {
   "cell_type": "code",
   "execution_count": null,
   "id": "0c38a446-a568-4ea7-b4a4-2381c6a5114b",
   "metadata": {
    "jupyter": {
     "source_hidden": true
    },
    "tags": []
   },
   "outputs": [],
   "source": [
    "plt.bar(inflationvsfule['Year'], inflationvsfule['Value_inflation'], label='Value_inflation')\n",
    "plt.bar(inflationvsfule['Year'], inflationvsfule['Average Viva Movement'], label='Average Viva Movement')\n",
    "\n",
    "# Add labels and title\n",
    "plt.xlabel('Year')\n",
    "plt.ylabel('Value')\n",
    "plt.title('Bar Graph')\n",
    "plt.legend()\n",
    "\n",
    "# Show the plot\n",
    "plt.show()"
   ]
  }
 ],
 "metadata": {
  "kernelspec": {
   "display_name": "Python 3 (ipykernel)",
   "language": "python",
   "name": "python3"
  },
  "language_info": {
   "codemirror_mode": {
    "name": "ipython",
    "version": 3
   },
   "file_extension": ".py",
   "mimetype": "text/x-python",
   "name": "python",
   "nbconvert_exporter": "python",
   "pygments_lexer": "ipython3",
   "version": "3.11.5"
  }
 },
 "nbformat": 4,
 "nbformat_minor": 5
}
