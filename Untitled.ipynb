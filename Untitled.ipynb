{
 "cells": [
  {
   "cell_type": "code",
   "execution_count": 19,
   "id": "a738e154-c960-4a7c-98a3-6b3b74321e27",
   "metadata": {
    "tags": []
   },
   "outputs": [],
   "source": [
    "import requests\n",
    "import json\n",
    "from config import api_key"
   ]
  },
  {
   "cell_type": "code",
   "execution_count": 23,
   "id": "7957c0b8-43d5-4363-bfca-cc0bf70b85a7",
   "metadata": {
    "tags": []
   },
   "outputs": [],
   "source": [
    "url = \"https://api.data.abs.gov.au/data/\"\n",
    "data_flow_identifer = \n",
    "dataKey =\n",
    "start_period =\n",
    "end_period =\n",
    "detail =\n",
    "dimension ="
   ]
  },
  {
   "cell_type": "code",
   "execution_count": 25,
   "id": "081c6491-7a07-4a83-8b56-88e027b51213",
   "metadata": {
    "tags": []
   },
   "outputs": [
    {
     "ename": "SyntaxError",
     "evalue": "invalid syntax (3052087459.py, line 1)",
     "output_type": "error",
     "traceback": [
      "\u001b[1;36m  Cell \u001b[1;32mIn[25], line 1\u001b[1;36m\u001b[0m\n\u001b[1;33m    curl -X 'GET'\u001b[0m\n\u001b[1;37m            ^\u001b[0m\n\u001b[1;31mSyntaxError\u001b[0m\u001b[1;31m:\u001b[0m invalid syntax\n"
     ]
    }
   ],
   "source": [
    "query_url = f\"{url}{data_flow_identifer}/{dataKey}?startPeriod={start_period}&endPeriod={end_period}&detail={detail}&demensionsAtObservation={dimension}'"
   ]
  },
  {
   "cell_type": "code",
   "execution_count": null,
   "id": "ca87df28-a117-45c4-903c-ca6f22218076",
   "metadata": {},
   "outputs": [],
   "source": []
  }
 ],
 "metadata": {
  "kernelspec": {
   "display_name": "Python 3 (ipykernel)",
   "language": "python",
   "name": "python3"
  },
  "language_info": {
   "codemirror_mode": {
    "name": "ipython",
    "version": 3
   },
   "file_extension": ".py",
   "mimetype": "text/x-python",
   "name": "python",
   "nbconvert_exporter": "python",
   "pygments_lexer": "ipython3",
   "version": "3.11.5"
  }
 },
 "nbformat": 4,
 "nbformat_minor": 5
}
