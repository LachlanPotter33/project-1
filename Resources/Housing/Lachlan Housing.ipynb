{
 "cells": [
  {
   "cell_type": "code",
   "execution_count": 123,
   "id": "f891e7dd-2e5f-4dd2-a2b6-df6c20facc08",
   "metadata": {},
   "outputs": [],
   "source": [
    "# importing the required modules\n",
    "from pathlib import Path\n",
    "import pandas as pd\n",
    "import matplotlib.pyplot as plt\n",
    "import numpy as np\n"
   ]
  },
  {
   "cell_type": "code",
   "execution_count": 124,
   "id": "ecd316e4-4530-4d93-8beb-7d37c952dc09",
   "metadata": {
    "tags": []
   },
   "outputs": [],
   "source": [
    "# Housing Path for Files\n",
    "March_2020csv = Path(\"./Resources/Housing/March quarter 2020.csv\")\n",
    "March_2021csv = Path(\"./Resources/Housing/March quarter 2021.csv\")\n",
    "March_2022csv = Path(\"./Resources/Housing/March quarter 2022.csv\")\n",
    "June_2019csv = Path(\"./Resources/Housing/June quarter 2019.csv\")\n",
    "June_2020csv = Path(\"./Resources/Housing/June quarter 2020.csv\")\n",
    "June_2021csv = Path(\"./Resources/Housing/June quarter 2021.csv\")\n",
    "Sept_2019csv = Path(\"./Resources/Housing/September quarter 2019.csv\")\n",
    "Sept_2020csv = Path(\"./Resources/Housing/September quarter 2020.csv\")\n",
    "Sept_2021csv = Path(\"./Resources/Housing/September quarter 2021.csv\")  \n",
    "Dec_2019csv = Path(\"./Resources/Housing/December quarter 2019.csv\")\n",
    "Dec_2020csv = Path(\"./Resources/Housing/December quarter 2020.csv\")\n",
    "Dec_2021csv = Path(\"./Resources/Housing/December quarter 2021.csv\")\n",
    "Combined_2022csv = Path(\"./Resources/Housing/2022.csv\")\n",
    "Combined_2023csv = Path(\"./Resources/Housing/2023.csv\")\n",
    "                        "
   ]
  },
  {
   "cell_type": "code",
   "execution_count": 125,
   "id": "8e895e97-0b4e-454a-a0ee-830800bfdae4",
   "metadata": {
    "tags": []
   },
   "outputs": [],
   "source": [
    "# pd Reading\n",
    "March_2020 = pd.read_csv(March_2020csv)\n",
    "March_2021 = pd.read_csv(March_2021csv)\n",
    "March_2022 = pd.read_csv(March_2022csv)\n",
    "June_2019 = pd.read_csv(June_2019csv)\n",
    "June_2020 = pd.read_csv(June_2020csv)\n",
    "June_2021 = pd.read_csv(June_2021csv)\n",
    "Sept_2019 = pd.read_csv(Sept_2019csv)\n",
    "Sept_2020 = pd.read_csv(Sept_2020csv)\n",
    "Sept_2021 = pd.read_csv(Sept_2021csv)\n",
    "Dec_2019 = pd.read_csv(Dec_2019csv)\n",
    "Dec_2020 = pd.read_csv(Dec_2020csv)\n",
    "Dec_2021 = pd.read_csv(Dec_2021csv)\n",
    "Combined_2022 = pd.read_csv(Combined_2022csv)\n",
    "Combined_2023 = pd.read_csv(Combined_2023csv)"
   ]
  },
  {
   "cell_type": "code",
   "execution_count": 126,
   "id": "76a859db-2599-4d56-943b-dfc4d90f36f8",
   "metadata": {
    "tags": []
   },
   "outputs": [
    {
     "data": {
      "text/html": [
       "<div>\n",
       "<style scoped>\n",
       "    .dataframe tbody tr th:only-of-type {\n",
       "        vertical-align: middle;\n",
       "    }\n",
       "\n",
       "    .dataframe tbody tr th {\n",
       "        vertical-align: top;\n",
       "    }\n",
       "\n",
       "    .dataframe thead th {\n",
       "        text-align: right;\n",
       "    }\n",
       "</style>\n",
       "<table border=\"1\" class=\"dataframe\">\n",
       "  <thead>\n",
       "    <tr style=\"text-align: right;\">\n",
       "      <th></th>\n",
       "      <th>Mean dwelling price, states and territories, March quarter 2020</th>\n",
       "    </tr>\n",
       "  </thead>\n",
       "  <tbody>\n",
       "    <tr>\n",
       "      <th>NaN</th>\n",
       "      <td>Mean price ($'000)</td>\n",
       "    </tr>\n",
       "    <tr>\n",
       "      <th>NSW</th>\n",
       "      <td>890.4</td>\n",
       "    </tr>\n",
       "    <tr>\n",
       "      <th>VIC</th>\n",
       "      <td>754.6</td>\n",
       "    </tr>\n",
       "    <tr>\n",
       "      <th>QLD</th>\n",
       "      <td>518.7</td>\n",
       "    </tr>\n",
       "    <tr>\n",
       "      <th>SA</th>\n",
       "      <td>470.1</td>\n",
       "    </tr>\n",
       "    <tr>\n",
       "      <th>WA</th>\n",
       "      <td>501.9</td>\n",
       "    </tr>\n",
       "    <tr>\n",
       "      <th>TAS</th>\n",
       "      <td>450.4</td>\n",
       "    </tr>\n",
       "    <tr>\n",
       "      <th>NT</th>\n",
       "      <td>413.2</td>\n",
       "    </tr>\n",
       "    <tr>\n",
       "      <th>ACT</th>\n",
       "      <td>701</td>\n",
       "    </tr>\n",
       "    <tr>\n",
       "      <th>Australia</th>\n",
       "      <td>690.2</td>\n",
       "    </tr>\n",
       "    <tr>\n",
       "      <th>Source: Australian Bureau of Statistics, Residential Property Price Indexes: Eight Capital Cities March 2020</th>\n",
       "      <td>NaN</td>\n",
       "    </tr>\n",
       "  </tbody>\n",
       "</table>\n",
       "</div>"
      ],
      "text/plain": [
       "                                                   Mean dwelling price, states and territories, March quarter 2020\n",
       "NaN                                                                                Mean price ($'000)             \n",
       "NSW                                                                                             890.4             \n",
       "VIC                                                                                             754.6             \n",
       "QLD                                                                                             518.7             \n",
       "SA                                                                                              470.1             \n",
       "WA                                                                                              501.9             \n",
       "TAS                                                                                             450.4             \n",
       "NT                                                                                              413.2             \n",
       "ACT                                                                                               701             \n",
       "Australia                                                                                       690.2             \n",
       "Source: Australian Bureau of Statistics, Reside...                                                NaN             "
      ]
     },
     "execution_count": 126,
     "metadata": {},
     "output_type": "execute_result"
    }
   ],
   "source": [
    "March_2020"
   ]
  },
  {
   "cell_type": "code",
   "execution_count": 127,
   "id": "9bb5ba56-e265-4f4b-833e-4e0ad327ad6e",
   "metadata": {
    "tags": []
   },
   "outputs": [],
   "source": [
    "#removing Header row\n",
    "March_2020 = March_2020[1:]"
   ]
  },
  {
   "cell_type": "code",
   "execution_count": 128,
   "id": "213db63a-e902-47cd-bdce-219c14297ac3",
   "metadata": {
    "tags": []
   },
   "outputs": [
    {
     "data": {
      "text/html": [
       "<div>\n",
       "<style scoped>\n",
       "    .dataframe tbody tr th:only-of-type {\n",
       "        vertical-align: middle;\n",
       "    }\n",
       "\n",
       "    .dataframe tbody tr th {\n",
       "        vertical-align: top;\n",
       "    }\n",
       "\n",
       "    .dataframe thead th {\n",
       "        text-align: right;\n",
       "    }\n",
       "</style>\n",
       "<table border=\"1\" class=\"dataframe\">\n",
       "  <thead>\n",
       "    <tr style=\"text-align: right;\">\n",
       "      <th></th>\n",
       "      <th>Mean dwelling price, states and territories, March quarter 2020</th>\n",
       "    </tr>\n",
       "  </thead>\n",
       "  <tbody>\n",
       "    <tr>\n",
       "      <th>NSW</th>\n",
       "      <td>890.4</td>\n",
       "    </tr>\n",
       "    <tr>\n",
       "      <th>VIC</th>\n",
       "      <td>754.6</td>\n",
       "    </tr>\n",
       "    <tr>\n",
       "      <th>QLD</th>\n",
       "      <td>518.7</td>\n",
       "    </tr>\n",
       "    <tr>\n",
       "      <th>SA</th>\n",
       "      <td>470.1</td>\n",
       "    </tr>\n",
       "    <tr>\n",
       "      <th>WA</th>\n",
       "      <td>501.9</td>\n",
       "    </tr>\n",
       "    <tr>\n",
       "      <th>TAS</th>\n",
       "      <td>450.4</td>\n",
       "    </tr>\n",
       "    <tr>\n",
       "      <th>NT</th>\n",
       "      <td>413.2</td>\n",
       "    </tr>\n",
       "    <tr>\n",
       "      <th>ACT</th>\n",
       "      <td>701</td>\n",
       "    </tr>\n",
       "    <tr>\n",
       "      <th>Australia</th>\n",
       "      <td>690.2</td>\n",
       "    </tr>\n",
       "    <tr>\n",
       "      <th>Source: Australian Bureau of Statistics, Residential Property Price Indexes: Eight Capital Cities March 2020</th>\n",
       "      <td>NaN</td>\n",
       "    </tr>\n",
       "  </tbody>\n",
       "</table>\n",
       "</div>"
      ],
      "text/plain": [
       "                                                   Mean dwelling price, states and territories, March quarter 2020\n",
       "NSW                                                                                             890.4             \n",
       "VIC                                                                                             754.6             \n",
       "QLD                                                                                             518.7             \n",
       "SA                                                                                              470.1             \n",
       "WA                                                                                              501.9             \n",
       "TAS                                                                                             450.4             \n",
       "NT                                                                                              413.2             \n",
       "ACT                                                                                               701             \n",
       "Australia                                                                                       690.2             \n",
       "Source: Australian Bureau of Statistics, Reside...                                                NaN             "
      ]
     },
     "execution_count": 128,
     "metadata": {},
     "output_type": "execute_result"
    }
   ],
   "source": [
    "March_2020"
   ]
  },
  {
   "cell_type": "code",
   "execution_count": 129,
   "id": "7381beab-f7a1-4590-bc01-04460ca60316",
   "metadata": {
    "tags": []
   },
   "outputs": [],
   "source": [
    "#removing all irrelevant rows\n",
    "March_2020 = March_2020.iloc[8:9]"
   ]
  },
  {
   "cell_type": "code",
   "execution_count": 130,
   "id": "dfb021bd-fde3-4294-a237-54f9e153e9e0",
   "metadata": {},
   "outputs": [
    {
     "data": {
      "text/html": [
       "<div>\n",
       "<style scoped>\n",
       "    .dataframe tbody tr th:only-of-type {\n",
       "        vertical-align: middle;\n",
       "    }\n",
       "\n",
       "    .dataframe tbody tr th {\n",
       "        vertical-align: top;\n",
       "    }\n",
       "\n",
       "    .dataframe thead th {\n",
       "        text-align: right;\n",
       "    }\n",
       "</style>\n",
       "<table border=\"1\" class=\"dataframe\">\n",
       "  <thead>\n",
       "    <tr style=\"text-align: right;\">\n",
       "      <th></th>\n",
       "      <th>Mean dwelling price, states and territories, March quarter 2020</th>\n",
       "    </tr>\n",
       "  </thead>\n",
       "  <tbody>\n",
       "    <tr>\n",
       "      <th>Australia</th>\n",
       "      <td>690.2</td>\n",
       "    </tr>\n",
       "  </tbody>\n",
       "</table>\n",
       "</div>"
      ],
      "text/plain": [
       "          Mean dwelling price, states and territories, March quarter 2020\n",
       "Australia                                              690.2             "
      ]
     },
     "execution_count": 130,
     "metadata": {},
     "output_type": "execute_result"
    }
   ],
   "source": [
    "March_2020"
   ]
  },
  {
   "cell_type": "code",
   "execution_count": 131,
   "id": "90b21c6b",
   "metadata": {},
   "outputs": [],
   "source": [
    "#renaming Column header\n",
    "March_2020.columns = ['2020 Qtr 1']\n"
   ]
  },
  {
   "cell_type": "code",
   "execution_count": 132,
   "id": "a79f9423",
   "metadata": {},
   "outputs": [
    {
     "data": {
      "text/html": [
       "<div>\n",
       "<style scoped>\n",
       "    .dataframe tbody tr th:only-of-type {\n",
       "        vertical-align: middle;\n",
       "    }\n",
       "\n",
       "    .dataframe tbody tr th {\n",
       "        vertical-align: top;\n",
       "    }\n",
       "\n",
       "    .dataframe thead th {\n",
       "        text-align: right;\n",
       "    }\n",
       "</style>\n",
       "<table border=\"1\" class=\"dataframe\">\n",
       "  <thead>\n",
       "    <tr style=\"text-align: right;\">\n",
       "      <th></th>\n",
       "      <th>Australia</th>\n",
       "    </tr>\n",
       "  </thead>\n",
       "  <tbody>\n",
       "    <tr>\n",
       "      <th>2020 Qtr 1</th>\n",
       "      <td>690.2</td>\n",
       "    </tr>\n",
       "  </tbody>\n",
       "</table>\n",
       "</div>"
      ],
      "text/plain": [
       "           Australia\n",
       "2020 Qtr 1     690.2"
      ]
     },
     "execution_count": 132,
     "metadata": {},
     "output_type": "execute_result"
    }
   ],
   "source": [
    "#Transposing as Date is a row required within final data\n",
    "March_2020.transpose()"
   ]
  },
  {
   "cell_type": "code",
   "execution_count": 133,
   "id": "72826223",
   "metadata": {},
   "outputs": [
    {
     "data": {
      "text/html": [
       "<div>\n",
       "<style scoped>\n",
       "    .dataframe tbody tr th:only-of-type {\n",
       "        vertical-align: middle;\n",
       "    }\n",
       "\n",
       "    .dataframe tbody tr th {\n",
       "        vertical-align: top;\n",
       "    }\n",
       "\n",
       "    .dataframe thead th {\n",
       "        text-align: right;\n",
       "    }\n",
       "</style>\n",
       "<table border=\"1\" class=\"dataframe\">\n",
       "  <thead>\n",
       "    <tr style=\"text-align: right;\">\n",
       "      <th></th>\n",
       "      <th>Australia</th>\n",
       "    </tr>\n",
       "  </thead>\n",
       "  <tbody>\n",
       "    <tr>\n",
       "      <th>2020 Qtr 1</th>\n",
       "      <td>690.2</td>\n",
       "    </tr>\n",
       "  </tbody>\n",
       "</table>\n",
       "</div>"
      ],
      "text/plain": [
       "           Australia\n",
       "2020 Qtr 1     690.2"
      ]
     },
     "execution_count": 133,
     "metadata": {},
     "output_type": "execute_result"
    }
   ],
   "source": [
    "#Making Transpose as a new final Dataframe\n",
    "CleanMarch_2020=March_2020.transpose()\n",
    "CleanMarch_2020\n"
   ]
  },
  {
   "cell_type": "code",
   "execution_count": 134,
   "id": "28618048",
   "metadata": {},
   "outputs": [
    {
     "data": {
      "text/html": [
       "<div>\n",
       "<style scoped>\n",
       "    .dataframe tbody tr th:only-of-type {\n",
       "        vertical-align: middle;\n",
       "    }\n",
       "\n",
       "    .dataframe tbody tr th {\n",
       "        vertical-align: top;\n",
       "    }\n",
       "\n",
       "    .dataframe thead th {\n",
       "        text-align: right;\n",
       "    }\n",
       "</style>\n",
       "<table border=\"1\" class=\"dataframe\">\n",
       "  <thead>\n",
       "    <tr style=\"text-align: right;\">\n",
       "      <th></th>\n",
       "      <th>Australia</th>\n",
       "    </tr>\n",
       "  </thead>\n",
       "  <tbody>\n",
       "    <tr>\n",
       "      <th>2021 Qtr 1</th>\n",
       "      <td>779</td>\n",
       "    </tr>\n",
       "  </tbody>\n",
       "</table>\n",
       "</div>"
      ],
      "text/plain": [
       "           Australia\n",
       "2021 Qtr 1       779"
      ]
     },
     "execution_count": 134,
     "metadata": {},
     "output_type": "execute_result"
    }
   ],
   "source": [
    "#Repeating previous steps for different CSV\n",
    "March_2021 = March_2021[1:]\n",
    "March_2021 = March_2021.iloc[8:9]\n",
    "March_2021.columns = ['2021 Qtr 1']\n",
    "CleanMarch_2021=March_2021.transpose()\n",
    "CleanMarch_2021"
   ]
  },
  {
   "cell_type": "code",
   "execution_count": 135,
   "id": "b48a017b",
   "metadata": {},
   "outputs": [
    {
     "data": {
      "text/html": [
       "<div>\n",
       "<style scoped>\n",
       "    .dataframe tbody tr th:only-of-type {\n",
       "        vertical-align: middle;\n",
       "    }\n",
       "\n",
       "    .dataframe tbody tr th {\n",
       "        vertical-align: top;\n",
       "    }\n",
       "\n",
       "    .dataframe thead th {\n",
       "        text-align: right;\n",
       "    }\n",
       "</style>\n",
       "<table border=\"1\" class=\"dataframe\">\n",
       "  <thead>\n",
       "    <tr style=\"text-align: right;\">\n",
       "      <th></th>\n",
       "      <th>Australia</th>\n",
       "    </tr>\n",
       "  </thead>\n",
       "  <tbody>\n",
       "    <tr>\n",
       "      <th>2022 Qtr 1</th>\n",
       "      <td>941.9</td>\n",
       "    </tr>\n",
       "  </tbody>\n",
       "</table>\n",
       "</div>"
      ],
      "text/plain": [
       "           Australia\n",
       "2022 Qtr 1     941.9"
      ]
     },
     "execution_count": 135,
     "metadata": {},
     "output_type": "execute_result"
    }
   ],
   "source": [
    "#repeating previous steps for different CSV\n",
    "March_2022 = March_2022[1:]\n",
    "March_2022 = March_2022.iloc[8:9]\n",
    "March_2022.columns = ['2022 Qtr 1']\n",
    "CleanMarch_2022=March_2022.transpose()\n",
    "CleanMarch_2022"
   ]
  },
  {
   "cell_type": "code",
   "execution_count": 136,
   "id": "81c0b22f",
   "metadata": {},
   "outputs": [
    {
     "data": {
      "text/html": [
       "<div>\n",
       "<style scoped>\n",
       "    .dataframe tbody tr th:only-of-type {\n",
       "        vertical-align: middle;\n",
       "    }\n",
       "\n",
       "    .dataframe tbody tr th {\n",
       "        vertical-align: top;\n",
       "    }\n",
       "\n",
       "    .dataframe thead th {\n",
       "        text-align: right;\n",
       "    }\n",
       "</style>\n",
       "<table border=\"1\" class=\"dataframe\">\n",
       "  <thead>\n",
       "    <tr style=\"text-align: right;\">\n",
       "      <th></th>\n",
       "      <th>Australia</th>\n",
       "    </tr>\n",
       "  </thead>\n",
       "  <tbody>\n",
       "    <tr>\n",
       "      <th>2022 Qtr 1</th>\n",
       "      <td>941.9</td>\n",
       "    </tr>\n",
       "  </tbody>\n",
       "</table>\n",
       "</div>"
      ],
      "text/plain": [
       "           Australia\n",
       "2022 Qtr 1     941.9"
      ]
     },
     "execution_count": 136,
     "metadata": {},
     "output_type": "execute_result"
    }
   ],
   "source": [
    "CleanMarch_2022"
   ]
  },
  {
   "cell_type": "code",
   "execution_count": 137,
   "id": "f3b93e50",
   "metadata": {},
   "outputs": [
    {
     "data": {
      "text/html": [
       "<div>\n",
       "<style scoped>\n",
       "    .dataframe tbody tr th:only-of-type {\n",
       "        vertical-align: middle;\n",
       "    }\n",
       "\n",
       "    .dataframe tbody tr th {\n",
       "        vertical-align: top;\n",
       "    }\n",
       "\n",
       "    .dataframe thead th {\n",
       "        text-align: right;\n",
       "    }\n",
       "</style>\n",
       "<table border=\"1\" class=\"dataframe\">\n",
       "  <thead>\n",
       "    <tr style=\"text-align: right;\">\n",
       "      <th></th>\n",
       "      <th>Australia</th>\n",
       "    </tr>\n",
       "  </thead>\n",
       "  <tbody>\n",
       "    <tr>\n",
       "      <th>2019 Qtr 2</th>\n",
       "      <td>638.9</td>\n",
       "    </tr>\n",
       "  </tbody>\n",
       "</table>\n",
       "</div>"
      ],
      "text/plain": [
       "           Australia\n",
       "2019 Qtr 2     638.9"
      ]
     },
     "execution_count": 137,
     "metadata": {},
     "output_type": "execute_result"
    }
   ],
   "source": [
    "#repeating previous steps for different CSV\n",
    "June_2019 = June_2019[1:]\n",
    "June_2019 = June_2019.iloc[8:9]\n",
    "June_2019.columns = ['2019 Qtr 2']\n",
    "CleanJune_2019=June_2019.transpose()\n",
    "CleanJune_2019"
   ]
  },
  {
   "cell_type": "code",
   "execution_count": 138,
   "id": "a79b4f36",
   "metadata": {},
   "outputs": [
    {
     "data": {
      "text/html": [
       "<div>\n",
       "<style scoped>\n",
       "    .dataframe tbody tr th:only-of-type {\n",
       "        vertical-align: middle;\n",
       "    }\n",
       "\n",
       "    .dataframe tbody tr th {\n",
       "        vertical-align: top;\n",
       "    }\n",
       "\n",
       "    .dataframe thead th {\n",
       "        text-align: right;\n",
       "    }\n",
       "</style>\n",
       "<table border=\"1\" class=\"dataframe\">\n",
       "  <thead>\n",
       "    <tr style=\"text-align: right;\">\n",
       "      <th></th>\n",
       "      <th>Australia</th>\n",
       "    </tr>\n",
       "  </thead>\n",
       "  <tbody>\n",
       "    <tr>\n",
       "      <th>2020 Qtr 2</th>\n",
       "      <td>678.5</td>\n",
       "    </tr>\n",
       "  </tbody>\n",
       "</table>\n",
       "</div>"
      ],
      "text/plain": [
       "           Australia\n",
       "2020 Qtr 2     678.5"
      ]
     },
     "execution_count": 138,
     "metadata": {},
     "output_type": "execute_result"
    }
   ],
   "source": [
    "#repeating previous steps for different CSV\n",
    "June_2020 = June_2020[1:]\n",
    "June_2020 = June_2020.iloc[8:9]\n",
    "June_2020.columns = ['2020 Qtr 2']\n",
    "CleanJune_2020=June_2020.transpose()\n",
    "CleanJune_2020"
   ]
  },
  {
   "cell_type": "code",
   "execution_count": 139,
   "id": "22b33f4a",
   "metadata": {},
   "outputs": [
    {
     "data": {
      "text/html": [
       "<div>\n",
       "<style scoped>\n",
       "    .dataframe tbody tr th:only-of-type {\n",
       "        vertical-align: middle;\n",
       "    }\n",
       "\n",
       "    .dataframe tbody tr th {\n",
       "        vertical-align: top;\n",
       "    }\n",
       "\n",
       "    .dataframe thead th {\n",
       "        text-align: right;\n",
       "    }\n",
       "</style>\n",
       "<table border=\"1\" class=\"dataframe\">\n",
       "  <thead>\n",
       "    <tr style=\"text-align: right;\">\n",
       "      <th></th>\n",
       "      <th>Australia</th>\n",
       "    </tr>\n",
       "  </thead>\n",
       "  <tbody>\n",
       "    <tr>\n",
       "      <th>2021 Qtr 2</th>\n",
       "      <td>835.7</td>\n",
       "    </tr>\n",
       "  </tbody>\n",
       "</table>\n",
       "</div>"
      ],
      "text/plain": [
       "           Australia\n",
       "2021 Qtr 2     835.7"
      ]
     },
     "execution_count": 139,
     "metadata": {},
     "output_type": "execute_result"
    }
   ],
   "source": [
    "#repeating previous steps for different CSV\n",
    "June_2021 = June_2021[1:]\n",
    "June_2021 = June_2021.iloc[8:9]\n",
    "June_2021.columns = ['2021 Qtr 2']\n",
    "CleanJune_2021=June_2021.transpose()\n",
    "CleanJune_2021"
   ]
  },
  {
   "cell_type": "code",
   "execution_count": 140,
   "id": "a9f8e1ce",
   "metadata": {},
   "outputs": [
    {
     "data": {
      "text/html": [
       "<div>\n",
       "<style scoped>\n",
       "    .dataframe tbody tr th:only-of-type {\n",
       "        vertical-align: middle;\n",
       "    }\n",
       "\n",
       "    .dataframe tbody tr th {\n",
       "        vertical-align: top;\n",
       "    }\n",
       "\n",
       "    .dataframe thead th {\n",
       "        text-align: right;\n",
       "    }\n",
       "</style>\n",
       "<table border=\"1\" class=\"dataframe\">\n",
       "  <thead>\n",
       "    <tr style=\"text-align: right;\">\n",
       "      <th></th>\n",
       "      <th>Australia</th>\n",
       "    </tr>\n",
       "  </thead>\n",
       "  <tbody>\n",
       "    <tr>\n",
       "      <th>2019 Qtr 3</th>\n",
       "      <td>660.8</td>\n",
       "    </tr>\n",
       "  </tbody>\n",
       "</table>\n",
       "</div>"
      ],
      "text/plain": [
       "           Australia\n",
       "2019 Qtr 3     660.8"
      ]
     },
     "execution_count": 140,
     "metadata": {},
     "output_type": "execute_result"
    }
   ],
   "source": [
    "#repeating previous steps for different CSV\n",
    "Sept_2019 = Sept_2019[1:]\n",
    "Sept_2019 = Sept_2019.iloc[8:9]\n",
    "Sept_2019.columns = ['2019 Qtr 3']\n",
    "CleanSept_2019=Sept_2019.transpose()\n",
    "CleanSept_2019"
   ]
  },
  {
   "cell_type": "code",
   "execution_count": 141,
   "id": "bb170119",
   "metadata": {},
   "outputs": [
    {
     "data": {
      "text/html": [
       "<div>\n",
       "<style scoped>\n",
       "    .dataframe tbody tr th:only-of-type {\n",
       "        vertical-align: middle;\n",
       "    }\n",
       "\n",
       "    .dataframe tbody tr th {\n",
       "        vertical-align: top;\n",
       "    }\n",
       "\n",
       "    .dataframe thead th {\n",
       "        text-align: right;\n",
       "    }\n",
       "</style>\n",
       "<table border=\"1\" class=\"dataframe\">\n",
       "  <thead>\n",
       "    <tr style=\"text-align: right;\">\n",
       "      <th></th>\n",
       "      <th>Australia</th>\n",
       "    </tr>\n",
       "  </thead>\n",
       "  <tbody>\n",
       "    <tr>\n",
       "      <th>2020 Qtr 3</th>\n",
       "      <td>689.5</td>\n",
       "    </tr>\n",
       "  </tbody>\n",
       "</table>\n",
       "</div>"
      ],
      "text/plain": [
       "           Australia\n",
       "2020 Qtr 3     689.5"
      ]
     },
     "execution_count": 141,
     "metadata": {},
     "output_type": "execute_result"
    }
   ],
   "source": [
    "#repeating previous steps for different CSV\n",
    "Sept_2020 = Sept_2020[1:]\n",
    "Sept_2020 = Sept_2020.iloc[8:9]\n",
    "Sept_2020.columns = ['2020 Qtr 3']\n",
    "CleanSept_2020=Sept_2020.transpose()\n",
    "CleanSept_2020"
   ]
  },
  {
   "cell_type": "code",
   "execution_count": 142,
   "id": "5d12c439",
   "metadata": {},
   "outputs": [
    {
     "data": {
      "text/html": [
       "<div>\n",
       "<style scoped>\n",
       "    .dataframe tbody tr th:only-of-type {\n",
       "        vertical-align: middle;\n",
       "    }\n",
       "\n",
       "    .dataframe tbody tr th {\n",
       "        vertical-align: top;\n",
       "    }\n",
       "\n",
       "    .dataframe thead th {\n",
       "        text-align: right;\n",
       "    }\n",
       "</style>\n",
       "<table border=\"1\" class=\"dataframe\">\n",
       "  <thead>\n",
       "    <tr style=\"text-align: right;\">\n",
       "      <th></th>\n",
       "      <th>Australia</th>\n",
       "    </tr>\n",
       "  </thead>\n",
       "  <tbody>\n",
       "    <tr>\n",
       "      <th>2021 Qtr 3</th>\n",
       "      <td>863.7</td>\n",
       "    </tr>\n",
       "  </tbody>\n",
       "</table>\n",
       "</div>"
      ],
      "text/plain": [
       "           Australia\n",
       "2021 Qtr 3     863.7"
      ]
     },
     "execution_count": 142,
     "metadata": {},
     "output_type": "execute_result"
    }
   ],
   "source": [
    "#repeating previous steps for different CSV\n",
    "Sept_2021 = Sept_2021[1:]\n",
    "Sept_2021 = Sept_2021.iloc[8:9]\n",
    "Sept_2021.columns = ['2021 Qtr 3']\n",
    "CleanSept_2021=Sept_2021.transpose()\n",
    "CleanSept_2021"
   ]
  },
  {
   "cell_type": "code",
   "execution_count": 143,
   "id": "b99f7d58",
   "metadata": {},
   "outputs": [
    {
     "data": {
      "text/html": [
       "<div>\n",
       "<style scoped>\n",
       "    .dataframe tbody tr th:only-of-type {\n",
       "        vertical-align: middle;\n",
       "    }\n",
       "\n",
       "    .dataframe tbody tr th {\n",
       "        vertical-align: top;\n",
       "    }\n",
       "\n",
       "    .dataframe thead th {\n",
       "        text-align: right;\n",
       "    }\n",
       "</style>\n",
       "<table border=\"1\" class=\"dataframe\">\n",
       "  <thead>\n",
       "    <tr style=\"text-align: right;\">\n",
       "      <th></th>\n",
       "      <th>Australia</th>\n",
       "    </tr>\n",
       "  </thead>\n",
       "  <tbody>\n",
       "    <tr>\n",
       "      <th>2019 Qtr 4</th>\n",
       "      <td>691</td>\n",
       "    </tr>\n",
       "  </tbody>\n",
       "</table>\n",
       "</div>"
      ],
      "text/plain": [
       "           Australia\n",
       "2019 Qtr 4       691"
      ]
     },
     "execution_count": 143,
     "metadata": {},
     "output_type": "execute_result"
    }
   ],
   "source": [
    "#repeating previous steps for different CSV\n",
    "Dec_2019 = Dec_2019[1:]\n",
    "Dec_2019 = Dec_2019.iloc[8:9]\n",
    "Dec_2019.columns = ['2019 Qtr 4']\n",
    "CleanDec_2019=Dec_2019.transpose()\n",
    "CleanDec_2019"
   ]
  },
  {
   "cell_type": "code",
   "execution_count": 144,
   "id": "e5c6daed",
   "metadata": {},
   "outputs": [
    {
     "data": {
      "text/html": [
       "<div>\n",
       "<style scoped>\n",
       "    .dataframe tbody tr th:only-of-type {\n",
       "        vertical-align: middle;\n",
       "    }\n",
       "\n",
       "    .dataframe tbody tr th {\n",
       "        vertical-align: top;\n",
       "    }\n",
       "\n",
       "    .dataframe thead th {\n",
       "        text-align: right;\n",
       "    }\n",
       "</style>\n",
       "<table border=\"1\" class=\"dataframe\">\n",
       "  <thead>\n",
       "    <tr style=\"text-align: right;\">\n",
       "      <th></th>\n",
       "      <th>Australia</th>\n",
       "    </tr>\n",
       "  </thead>\n",
       "  <tbody>\n",
       "    <tr>\n",
       "      <th>2020 Qtr 4</th>\n",
       "      <td>728.5</td>\n",
       "    </tr>\n",
       "  </tbody>\n",
       "</table>\n",
       "</div>"
      ],
      "text/plain": [
       "           Australia\n",
       "2020 Qtr 4     728.5"
      ]
     },
     "execution_count": 144,
     "metadata": {},
     "output_type": "execute_result"
    }
   ],
   "source": [
    "#repeating previous steps for different CSV\n",
    "Dec_2020 = Dec_2020[1:]\n",
    "Dec_2020 = Dec_2020.iloc[8:9]\n",
    "Dec_2020.columns = ['2020 Qtr 4']\n",
    "CleanDec_2020=Dec_2020.transpose()\n",
    "CleanDec_2020"
   ]
  },
  {
   "cell_type": "code",
   "execution_count": 145,
   "id": "ebd1bc48",
   "metadata": {},
   "outputs": [
    {
     "data": {
      "text/html": [
       "<div>\n",
       "<style scoped>\n",
       "    .dataframe tbody tr th:only-of-type {\n",
       "        vertical-align: middle;\n",
       "    }\n",
       "\n",
       "    .dataframe tbody tr th {\n",
       "        vertical-align: top;\n",
       "    }\n",
       "\n",
       "    .dataframe thead th {\n",
       "        text-align: right;\n",
       "    }\n",
       "</style>\n",
       "<table border=\"1\" class=\"dataframe\">\n",
       "  <thead>\n",
       "    <tr style=\"text-align: right;\">\n",
       "      <th></th>\n",
       "      <th>Australia</th>\n",
       "    </tr>\n",
       "  </thead>\n",
       "  <tbody>\n",
       "    <tr>\n",
       "      <th>2021 Qtr 4</th>\n",
       "      <td>920.1</td>\n",
       "    </tr>\n",
       "  </tbody>\n",
       "</table>\n",
       "</div>"
      ],
      "text/plain": [
       "           Australia\n",
       "2021 Qtr 4     920.1"
      ]
     },
     "execution_count": 145,
     "metadata": {},
     "output_type": "execute_result"
    }
   ],
   "source": [
    "#repeating previous steps for different CSV\n",
    "Dec_2021 = Dec_2021[1:]\n",
    "Dec_2021 = Dec_2021.iloc[8:9]\n",
    "Dec_2021.columns = ['2021 Qtr 4']\n",
    "CleanDec_2021=Dec_2021.transpose()\n",
    "CleanDec_2021"
   ]
  },
  {
   "cell_type": "code",
   "execution_count": 146,
   "id": "9e63cb45",
   "metadata": {},
   "outputs": [
    {
     "data": {
      "text/html": [
       "<div>\n",
       "<style scoped>\n",
       "    .dataframe tbody tr th:only-of-type {\n",
       "        vertical-align: middle;\n",
       "    }\n",
       "\n",
       "    .dataframe tbody tr th {\n",
       "        vertical-align: top;\n",
       "    }\n",
       "\n",
       "    .dataframe thead th {\n",
       "        text-align: right;\n",
       "    }\n",
       "</style>\n",
       "<table border=\"1\" class=\"dataframe\">\n",
       "  <thead>\n",
       "    <tr style=\"text-align: right;\">\n",
       "      <th></th>\n",
       "      <th></th>\n",
       "      <th></th>\n",
       "      <th>Mean dwelling price, states and territories</th>\n",
       "    </tr>\n",
       "  </thead>\n",
       "  <tbody>\n",
       "    <tr>\n",
       "      <th>NaN</th>\n",
       "      <th>Jun Qtr 22</th>\n",
       "      <th>Sep Qtr 22</th>\n",
       "      <td>Dec Qtr 22</td>\n",
       "    </tr>\n",
       "    <tr>\n",
       "      <th>NSW</th>\n",
       "      <th>1,270.4</th>\n",
       "      <th>1,176.3</th>\n",
       "      <td>1,130.5</td>\n",
       "    </tr>\n",
       "    <tr>\n",
       "      <th>VIC</th>\n",
       "      <th>973.5</th>\n",
       "      <th>921.6</th>\n",
       "      <td>894.4</td>\n",
       "    </tr>\n",
       "    <tr>\n",
       "      <th>QLD</th>\n",
       "      <th>795.4</th>\n",
       "      <th>767.7</th>\n",
       "      <td>738.8</td>\n",
       "    </tr>\n",
       "    <tr>\n",
       "      <th>SA</th>\n",
       "      <th>653.1</th>\n",
       "      <th>650.6</th>\n",
       "      <td>644.3</td>\n",
       "    </tr>\n",
       "    <tr>\n",
       "      <th>WA</th>\n",
       "      <th>643</th>\n",
       "      <th>629.3</th>\n",
       "      <td>630.3</td>\n",
       "    </tr>\n",
       "    <tr>\n",
       "      <th>TAS</th>\n",
       "      <th>685.9</th>\n",
       "      <th>673.6</th>\n",
       "      <td>649.6</td>\n",
       "    </tr>\n",
       "    <tr>\n",
       "      <th>NT</th>\n",
       "      <th>501.1</th>\n",
       "      <th>490</th>\n",
       "      <td>488.2</td>\n",
       "    </tr>\n",
       "    <tr>\n",
       "      <th>ACT</th>\n",
       "      <th>1,023.7</th>\n",
       "      <th>961.7</th>\n",
       "      <td>929.2</td>\n",
       "    </tr>\n",
       "    <tr>\n",
       "      <th>Australia</th>\n",
       "      <th>961.1</th>\n",
       "      <th>909.9</th>\n",
       "      <td>881.2</td>\n",
       "    </tr>\n",
       "    <tr>\n",
       "      <th>Source: Australian Bureau of Statistics, Total Value of Dwellings December Quarter 2022</th>\n",
       "      <th>NaN</th>\n",
       "      <th>NaN</th>\n",
       "      <td>NaN</td>\n",
       "    </tr>\n",
       "  </tbody>\n",
       "</table>\n",
       "</div>"
      ],
      "text/plain": [
       "                                                                         Mean dwelling price, states and territories\n",
       "NaN                                                Jun Qtr 22 Sep Qtr 22                                  Dec Qtr 22\n",
       "NSW                                                1,270.4    1,176.3                                        1,130.5\n",
       "VIC                                                973.5      921.6                                            894.4\n",
       "QLD                                                795.4      767.7                                            738.8\n",
       "SA                                                 653.1      650.6                                            644.3\n",
       "WA                                                 643        629.3                                            630.3\n",
       "TAS                                                685.9      673.6                                            649.6\n",
       "NT                                                 501.1      490                                              488.2\n",
       "ACT                                                1,023.7    961.7                                            929.2\n",
       "Australia                                          961.1      909.9                                            881.2\n",
       "Source: Australian Bureau of Statistics, Total ... NaN        NaN                                                NaN"
      ]
     },
     "execution_count": 146,
     "metadata": {},
     "output_type": "execute_result"
    }
   ],
   "source": [
    "Combined_2022\n"
   ]
  },
  {
   "cell_type": "code",
   "execution_count": 147,
   "id": "90f14ce6",
   "metadata": {},
   "outputs": [],
   "source": [
    "#Repeating similar Steps to previous but with Variasion due to different csv structire\n",
    "Combined_2022 = Combined_2022.reset_index()\n",
    "Combined_2022 = Combined_2022[1:]\n",
    "Combined_2022 = Combined_2022.iloc[8:9]\n",
    "Combined_2022.columns = ['','2022 Qtr 2','2022 Qtr 3','2022 Qtr 4']\n",
    "Combined_2022 = Combined_2022.iloc[0]\n",
    "CleanCombined_2022=Combined_2022.transpose()"
   ]
  },
  {
   "cell_type": "code",
   "execution_count": 148,
   "id": "85766836",
   "metadata": {},
   "outputs": [
    {
     "data": {
      "text/plain": [
       "              Australia\n",
       "2022 Qtr 2        961.1\n",
       "2022 Qtr 3        909.9\n",
       "2022 Qtr 4        881.2\n",
       "Name: 9, dtype: object"
      ]
     },
     "execution_count": 148,
     "metadata": {},
     "output_type": "execute_result"
    }
   ],
   "source": [
    "CleanCombined_2022"
   ]
  },
  {
   "cell_type": "code",
   "execution_count": 149,
   "id": "f3d4156c",
   "metadata": {},
   "outputs": [],
   "source": [
    "#As data was an object, creating as DataFrame\n",
    "data = {\n",
    "    '': ['2022 Qtr 2', '2022 Qtr 3', '2022 Qtr 4'],\n",
    "    'Australia': [961.1, 909.9, 881.2]\n",
    "}\n",
    "\n",
    "CleanCombined_2022 = pd.DataFrame(data)\n"
   ]
  },
  {
   "cell_type": "code",
   "execution_count": 150,
   "id": "92cf3f9f",
   "metadata": {},
   "outputs": [
    {
     "data": {
      "text/html": [
       "<div>\n",
       "<style scoped>\n",
       "    .dataframe tbody tr th:only-of-type {\n",
       "        vertical-align: middle;\n",
       "    }\n",
       "\n",
       "    .dataframe tbody tr th {\n",
       "        vertical-align: top;\n",
       "    }\n",
       "\n",
       "    .dataframe thead th {\n",
       "        text-align: right;\n",
       "    }\n",
       "</style>\n",
       "<table border=\"1\" class=\"dataframe\">\n",
       "  <thead>\n",
       "    <tr style=\"text-align: right;\">\n",
       "      <th></th>\n",
       "      <th></th>\n",
       "      <th>Australia</th>\n",
       "    </tr>\n",
       "  </thead>\n",
       "  <tbody>\n",
       "    <tr>\n",
       "      <th>0</th>\n",
       "      <td>2022 Qtr 2</td>\n",
       "      <td>961.1</td>\n",
       "    </tr>\n",
       "    <tr>\n",
       "      <th>1</th>\n",
       "      <td>2022 Qtr 3</td>\n",
       "      <td>909.9</td>\n",
       "    </tr>\n",
       "    <tr>\n",
       "      <th>2</th>\n",
       "      <td>2022 Qtr 4</td>\n",
       "      <td>881.2</td>\n",
       "    </tr>\n",
       "  </tbody>\n",
       "</table>\n",
       "</div>"
      ],
      "text/plain": [
       "               Australia\n",
       "0  2022 Qtr 2      961.1\n",
       "1  2022 Qtr 3      909.9\n",
       "2  2022 Qtr 4      881.2"
      ]
     },
     "execution_count": 150,
     "metadata": {},
     "output_type": "execute_result"
    }
   ],
   "source": [
    "CleanCombined_2022"
   ]
  },
  {
   "cell_type": "code",
   "execution_count": 151,
   "id": "b9cfe0e8",
   "metadata": {},
   "outputs": [
    {
     "data": {
      "text/html": [
       "<div>\n",
       "<style scoped>\n",
       "    .dataframe tbody tr th:only-of-type {\n",
       "        vertical-align: middle;\n",
       "    }\n",
       "\n",
       "    .dataframe tbody tr th {\n",
       "        vertical-align: top;\n",
       "    }\n",
       "\n",
       "    .dataframe thead th {\n",
       "        text-align: right;\n",
       "    }\n",
       "</style>\n",
       "<table border=\"1\" class=\"dataframe\">\n",
       "  <thead>\n",
       "    <tr style=\"text-align: right;\">\n",
       "      <th></th>\n",
       "      <th></th>\n",
       "      <th></th>\n",
       "      <th>Mean dwelling price, states and territories</th>\n",
       "    </tr>\n",
       "  </thead>\n",
       "  <tbody>\n",
       "    <tr>\n",
       "      <th>NaN</th>\n",
       "      <th>Mar Qtr 23 ($'000)</th>\n",
       "      <th>Jun Qtr 23 ($'000)</th>\n",
       "      <td>Sep Qtr 23 ($'000)</td>\n",
       "    </tr>\n",
       "    <tr>\n",
       "      <th>NSW</th>\n",
       "      <th>1,129.6</th>\n",
       "      <th>1,162.9</th>\n",
       "      <td>1,187.2</td>\n",
       "    </tr>\n",
       "    <tr>\n",
       "      <th>VIC</th>\n",
       "      <th>898.4</th>\n",
       "      <th>894.8</th>\n",
       "      <td>903.6</td>\n",
       "    </tr>\n",
       "    <tr>\n",
       "      <th>QLD</th>\n",
       "      <th>757.1</th>\n",
       "      <th>773.4</th>\n",
       "      <td>797.9</td>\n",
       "    </tr>\n",
       "    <tr>\n",
       "      <th>SA</th>\n",
       "      <th>663.3</th>\n",
       "      <th>694</th>\n",
       "      <td>722.1</td>\n",
       "    </tr>\n",
       "    <tr>\n",
       "      <th>WA</th>\n",
       "      <th>653.6</th>\n",
       "      <th>659.3</th>\n",
       "      <td>681.4</td>\n",
       "    </tr>\n",
       "    <tr>\n",
       "      <th>TAS</th>\n",
       "      <th>670.3</th>\n",
       "      <th>657.8</th>\n",
       "      <td>655.7</td>\n",
       "    </tr>\n",
       "    <tr>\n",
       "      <th>NT</th>\n",
       "      <th>517.4</th>\n",
       "      <th>519.4</th>\n",
       "      <td>525.9</td>\n",
       "    </tr>\n",
       "    <tr>\n",
       "      <th>ACT</th>\n",
       "      <th>940.8</th>\n",
       "      <th>940.2</th>\n",
       "      <td>943.8</td>\n",
       "    </tr>\n",
       "    <tr>\n",
       "      <th>Australia</th>\n",
       "      <th>890.9</th>\n",
       "      <th>906.2</th>\n",
       "      <td>925.4</td>\n",
       "    </tr>\n",
       "    <tr>\n",
       "      <th>Source: Australian Bureau of Statistics, Total Value of Dwellings September Quarter 2023</th>\n",
       "      <th>NaN</th>\n",
       "      <th>NaN</th>\n",
       "      <td>NaN</td>\n",
       "    </tr>\n",
       "  </tbody>\n",
       "</table>\n",
       "</div>"
      ],
      "text/plain": [
       "                                                                                         Mean dwelling price, states and territories\n",
       "NaN                                                Mar Qtr 23 ($'000) Jun Qtr 23 ($'000)                          Sep Qtr 23 ($'000)\n",
       "NSW                                                1,129.6            1,162.9                                                1,187.2\n",
       "VIC                                                898.4              894.8                                                    903.6\n",
       "QLD                                                757.1              773.4                                                    797.9\n",
       "SA                                                 663.3              694                                                      722.1\n",
       "WA                                                 653.6              659.3                                                    681.4\n",
       "TAS                                                670.3              657.8                                                    655.7\n",
       "NT                                                 517.4              519.4                                                    525.9\n",
       "ACT                                                940.8              940.2                                                    943.8\n",
       "Australia                                          890.9              906.2                                                    925.4\n",
       "Source: Australian Bureau of Statistics, Total ... NaN                NaN                                                        NaN"
      ]
     },
     "execution_count": 151,
     "metadata": {},
     "output_type": "execute_result"
    }
   ],
   "source": [
    "Combined_2023"
   ]
  },
  {
   "cell_type": "code",
   "execution_count": 152,
   "id": "59a5cfe1",
   "metadata": {},
   "outputs": [
    {
     "data": {
      "text/plain": [
       "              Australia\n",
       "2023 Qtr 1        890.9\n",
       "2023 Qtr 2        906.2\n",
       "2023 Qtr 3        925.4\n",
       "Name: 9, dtype: object"
      ]
     },
     "execution_count": 152,
     "metadata": {},
     "output_type": "execute_result"
    }
   ],
   "source": [
    "#Repeating for Combined 2023\n",
    "Combined_2023 = Combined_2023.reset_index()\n",
    "Combined_2023 = Combined_2023[1:]\n",
    "Combined_2023 = Combined_2023.iloc[8:9]\n",
    "Combined_2023.columns = ['','2023 Qtr 1','2023 Qtr 2','2023 Qtr 3']\n",
    "Combined_2023 = Combined_2023.iloc[0]\n",
    "CleanCombined_2023=Combined_2023.transpose()\n",
    "CleanCombined_2023"
   ]
  },
  {
   "cell_type": "code",
   "execution_count": 168,
   "id": "b9203802",
   "metadata": {},
   "outputs": [
    {
     "data": {
      "text/html": [
       "<div>\n",
       "<style scoped>\n",
       "    .dataframe tbody tr th:only-of-type {\n",
       "        vertical-align: middle;\n",
       "    }\n",
       "\n",
       "    .dataframe tbody tr th {\n",
       "        vertical-align: top;\n",
       "    }\n",
       "\n",
       "    .dataframe thead th {\n",
       "        text-align: right;\n",
       "    }\n",
       "</style>\n",
       "<table border=\"1\" class=\"dataframe\">\n",
       "  <thead>\n",
       "    <tr style=\"text-align: right;\">\n",
       "      <th></th>\n",
       "      <th></th>\n",
       "      <th>Australia</th>\n",
       "    </tr>\n",
       "  </thead>\n",
       "  <tbody>\n",
       "    <tr>\n",
       "      <th>0</th>\n",
       "      <td>2023 Qtr 1</td>\n",
       "      <td>890.9</td>\n",
       "    </tr>\n",
       "    <tr>\n",
       "      <th>1</th>\n",
       "      <td>2023 Qtr 2</td>\n",
       "      <td>906.2</td>\n",
       "    </tr>\n",
       "    <tr>\n",
       "      <th>2</th>\n",
       "      <td>2022 Qtr 3</td>\n",
       "      <td>925.4</td>\n",
       "    </tr>\n",
       "  </tbody>\n",
       "</table>\n",
       "</div>"
      ],
      "text/plain": [
       "               Australia\n",
       "0  2023 Qtr 1      890.9\n",
       "1  2023 Qtr 2      906.2\n",
       "2  2022 Qtr 3      925.4"
      ]
     },
     "execution_count": 168,
     "metadata": {},
     "output_type": "execute_result"
    }
   ],
   "source": [
    "data = {\n",
    "    '': ['2023 Qtr 1', '2023 Qtr 2', '2022 Qtr 3'],\n",
    "    'Australia': [890.9, 906.2, 925.4]\n",
    "}\n",
    "\n",
    "CleanCombined_2023 = pd.DataFrame(data)\n",
    "CleanCombined_2023"
   ]
  },
  {
   "cell_type": "code",
   "execution_count": 169,
   "id": "116fac1a",
   "metadata": {},
   "outputs": [
    {
     "data": {
      "text/html": [
       "<div>\n",
       "<style scoped>\n",
       "    .dataframe tbody tr th:only-of-type {\n",
       "        vertical-align: middle;\n",
       "    }\n",
       "\n",
       "    .dataframe tbody tr th {\n",
       "        vertical-align: top;\n",
       "    }\n",
       "\n",
       "    .dataframe thead th {\n",
       "        text-align: right;\n",
       "    }\n",
       "</style>\n",
       "<table border=\"1\" class=\"dataframe\">\n",
       "  <thead>\n",
       "    <tr style=\"text-align: right;\">\n",
       "      <th></th>\n",
       "      <th>Australia</th>\n",
       "    </tr>\n",
       "  </thead>\n",
       "  <tbody>\n",
       "    <tr>\n",
       "      <th>2019 Qtr 4</th>\n",
       "      <td>691</td>\n",
       "    </tr>\n",
       "    <tr>\n",
       "      <th>2020 Qtr 4</th>\n",
       "      <td>728.5</td>\n",
       "    </tr>\n",
       "    <tr>\n",
       "      <th>2021 Qtr 4</th>\n",
       "      <td>920.1</td>\n",
       "    </tr>\n",
       "    <tr>\n",
       "      <th>2019 Qtr 2</th>\n",
       "      <td>638.9</td>\n",
       "    </tr>\n",
       "    <tr>\n",
       "      <th>2020 Qtr 2</th>\n",
       "      <td>678.5</td>\n",
       "    </tr>\n",
       "    <tr>\n",
       "      <th>2021 Qtr 2</th>\n",
       "      <td>835.7</td>\n",
       "    </tr>\n",
       "    <tr>\n",
       "      <th>2019 Qtr 3</th>\n",
       "      <td>660.8</td>\n",
       "    </tr>\n",
       "    <tr>\n",
       "      <th>2020 Qtr 3</th>\n",
       "      <td>689.5</td>\n",
       "    </tr>\n",
       "    <tr>\n",
       "      <th>2021 Qtr 3</th>\n",
       "      <td>863.7</td>\n",
       "    </tr>\n",
       "    <tr>\n",
       "      <th>2020 Qtr 1</th>\n",
       "      <td>690.2</td>\n",
       "    </tr>\n",
       "    <tr>\n",
       "      <th>2021 Qtr 1</th>\n",
       "      <td>779</td>\n",
       "    </tr>\n",
       "    <tr>\n",
       "      <th>2022 Qtr 1</th>\n",
       "      <td>941.9</td>\n",
       "    </tr>\n",
       "  </tbody>\n",
       "</table>\n",
       "</div>"
      ],
      "text/plain": [
       "           Australia\n",
       "2019 Qtr 4       691\n",
       "2020 Qtr 4     728.5\n",
       "2021 Qtr 4     920.1\n",
       "2019 Qtr 2     638.9\n",
       "2020 Qtr 2     678.5\n",
       "2021 Qtr 2     835.7\n",
       "2019 Qtr 3     660.8\n",
       "2020 Qtr 3     689.5\n",
       "2021 Qtr 3     863.7\n",
       "2020 Qtr 1     690.2\n",
       "2021 Qtr 1       779\n",
       "2022 Qtr 1     941.9"
      ]
     },
     "execution_count": 169,
     "metadata": {},
     "output_type": "execute_result"
    }
   ],
   "source": [
    "#Merging of all Single Qtr data\n",
    "housing_clean = pd.concat([CleanDec_2019, CleanDec_2020, CleanDec_2021, CleanJune_2019,\n",
    "                            CleanJune_2020, CleanJune_2021, CleanSept_2019, CleanSept_2020, \n",
    "                            CleanSept_2021, CleanMarch_2020, CleanMarch_2021, CleanMarch_2022,], sort=False)\n",
    "housing_clean"
   ]
  },
  {
   "cell_type": "code",
   "execution_count": 170,
   "id": "96c1ad18",
   "metadata": {},
   "outputs": [],
   "source": [
    "#Adding an Index so I Could merge with the Combined 22, 23 files\n",
    "housing_clean = housing_clean.reset_index(drop=False)"
   ]
  },
  {
   "cell_type": "code",
   "execution_count": 171,
   "id": "ecf77de1",
   "metadata": {},
   "outputs": [
    {
     "data": {
      "text/html": [
       "<div>\n",
       "<style scoped>\n",
       "    .dataframe tbody tr th:only-of-type {\n",
       "        vertical-align: middle;\n",
       "    }\n",
       "\n",
       "    .dataframe tbody tr th {\n",
       "        vertical-align: top;\n",
       "    }\n",
       "\n",
       "    .dataframe thead th {\n",
       "        text-align: right;\n",
       "    }\n",
       "</style>\n",
       "<table border=\"1\" class=\"dataframe\">\n",
       "  <thead>\n",
       "    <tr style=\"text-align: right;\">\n",
       "      <th></th>\n",
       "      <th>index</th>\n",
       "      <th>Australia</th>\n",
       "    </tr>\n",
       "  </thead>\n",
       "  <tbody>\n",
       "    <tr>\n",
       "      <th>0</th>\n",
       "      <td>2022 Qtr 2</td>\n",
       "      <td>961.1</td>\n",
       "    </tr>\n",
       "    <tr>\n",
       "      <th>1</th>\n",
       "      <td>2022 Qtr 3</td>\n",
       "      <td>909.9</td>\n",
       "    </tr>\n",
       "    <tr>\n",
       "      <th>2</th>\n",
       "      <td>2022 Qtr 4</td>\n",
       "      <td>881.2</td>\n",
       "    </tr>\n",
       "    <tr>\n",
       "      <th>0</th>\n",
       "      <td>2023 Qtr 1</td>\n",
       "      <td>890.9</td>\n",
       "    </tr>\n",
       "    <tr>\n",
       "      <th>1</th>\n",
       "      <td>2023 Qtr 2</td>\n",
       "      <td>906.2</td>\n",
       "    </tr>\n",
       "    <tr>\n",
       "      <th>2</th>\n",
       "      <td>2022 Qtr 3</td>\n",
       "      <td>925.4</td>\n",
       "    </tr>\n",
       "  </tbody>\n",
       "</table>\n",
       "</div>"
      ],
      "text/plain": [
       "        index  Australia\n",
       "0  2022 Qtr 2      961.1\n",
       "1  2022 Qtr 3      909.9\n",
       "2  2022 Qtr 4      881.2\n",
       "0  2023 Qtr 1      890.9\n",
       "1  2023 Qtr 2      906.2\n",
       "2  2022 Qtr 3      925.4"
      ]
     },
     "execution_count": 171,
     "metadata": {},
     "output_type": "execute_result"
    }
   ],
   "source": [
    "#Combinding and adding in column headers\n",
    "Combined = pd.concat([CleanCombined_2022,CleanCombined_2023], sort =False)\n",
    "Combined.columns=['index','Australia']\n",
    "Combined"
   ]
  },
  {
   "cell_type": "code",
   "execution_count": 172,
   "id": "163ad2ea",
   "metadata": {},
   "outputs": [],
   "source": [
    "#Combining all the combined and the Single Qtr data\n",
    "housing_clean = pd.concat([housing_clean, Combined], sort=False)"
   ]
  },
  {
   "cell_type": "code",
   "execution_count": 179,
   "id": "3ce87b8f",
   "metadata": {},
   "outputs": [
    {
     "data": {
      "text/html": [
       "<div>\n",
       "<style scoped>\n",
       "    .dataframe tbody tr th:only-of-type {\n",
       "        vertical-align: middle;\n",
       "    }\n",
       "\n",
       "    .dataframe tbody tr th {\n",
       "        vertical-align: top;\n",
       "    }\n",
       "\n",
       "    .dataframe thead th {\n",
       "        text-align: right;\n",
       "    }\n",
       "</style>\n",
       "<table border=\"1\" class=\"dataframe\">\n",
       "  <thead>\n",
       "    <tr style=\"text-align: right;\">\n",
       "      <th></th>\n",
       "      <th></th>\n",
       "      <th>Australia</th>\n",
       "    </tr>\n",
       "  </thead>\n",
       "  <tbody>\n",
       "    <tr>\n",
       "      <th>3</th>\n",
       "      <td>2019 Qtr 2</td>\n",
       "      <td>638.9</td>\n",
       "    </tr>\n",
       "    <tr>\n",
       "      <th>6</th>\n",
       "      <td>2019 Qtr 3</td>\n",
       "      <td>660.8</td>\n",
       "    </tr>\n",
       "    <tr>\n",
       "      <th>0</th>\n",
       "      <td>2019 Qtr 4</td>\n",
       "      <td>691</td>\n",
       "    </tr>\n",
       "    <tr>\n",
       "      <th>9</th>\n",
       "      <td>2020 Qtr 1</td>\n",
       "      <td>690.2</td>\n",
       "    </tr>\n",
       "    <tr>\n",
       "      <th>4</th>\n",
       "      <td>2020 Qtr 2</td>\n",
       "      <td>678.5</td>\n",
       "    </tr>\n",
       "    <tr>\n",
       "      <th>7</th>\n",
       "      <td>2020 Qtr 3</td>\n",
       "      <td>689.5</td>\n",
       "    </tr>\n",
       "    <tr>\n",
       "      <th>1</th>\n",
       "      <td>2020 Qtr 4</td>\n",
       "      <td>728.5</td>\n",
       "    </tr>\n",
       "    <tr>\n",
       "      <th>10</th>\n",
       "      <td>2021 Qtr 1</td>\n",
       "      <td>779</td>\n",
       "    </tr>\n",
       "    <tr>\n",
       "      <th>5</th>\n",
       "      <td>2021 Qtr 2</td>\n",
       "      <td>835.7</td>\n",
       "    </tr>\n",
       "    <tr>\n",
       "      <th>8</th>\n",
       "      <td>2021 Qtr 3</td>\n",
       "      <td>863.7</td>\n",
       "    </tr>\n",
       "    <tr>\n",
       "      <th>2</th>\n",
       "      <td>2021 Qtr 4</td>\n",
       "      <td>920.1</td>\n",
       "    </tr>\n",
       "    <tr>\n",
       "      <th>11</th>\n",
       "      <td>2022 Qtr 1</td>\n",
       "      <td>941.9</td>\n",
       "    </tr>\n",
       "    <tr>\n",
       "      <th>0</th>\n",
       "      <td>2022 Qtr 2</td>\n",
       "      <td>961.1</td>\n",
       "    </tr>\n",
       "    <tr>\n",
       "      <th>1</th>\n",
       "      <td>2022 Qtr 3</td>\n",
       "      <td>909.9</td>\n",
       "    </tr>\n",
       "    <tr>\n",
       "      <th>2</th>\n",
       "      <td>2022 Qtr 3</td>\n",
       "      <td>925.4</td>\n",
       "    </tr>\n",
       "    <tr>\n",
       "      <th>2</th>\n",
       "      <td>2022 Qtr 4</td>\n",
       "      <td>881.2</td>\n",
       "    </tr>\n",
       "    <tr>\n",
       "      <th>0</th>\n",
       "      <td>2023 Qtr 1</td>\n",
       "      <td>890.9</td>\n",
       "    </tr>\n",
       "    <tr>\n",
       "      <th>1</th>\n",
       "      <td>2023 Qtr 2</td>\n",
       "      <td>906.2</td>\n",
       "    </tr>\n",
       "  </tbody>\n",
       "</table>\n",
       "</div>"
      ],
      "text/plain": [
       "               Australia\n",
       "3   2019 Qtr 2     638.9\n",
       "6   2019 Qtr 3     660.8\n",
       "0   2019 Qtr 4       691\n",
       "9   2020 Qtr 1     690.2\n",
       "4   2020 Qtr 2     678.5\n",
       "7   2020 Qtr 3     689.5\n",
       "1   2020 Qtr 4     728.5\n",
       "10  2021 Qtr 1       779\n",
       "5   2021 Qtr 2     835.7\n",
       "8   2021 Qtr 3     863.7\n",
       "2   2021 Qtr 4     920.1\n",
       "11  2022 Qtr 1     941.9\n",
       "0   2022 Qtr 2     961.1\n",
       "1   2022 Qtr 3     909.9\n",
       "2   2022 Qtr 3     925.4\n",
       "2   2022 Qtr 4     881.2\n",
       "0   2023 Qtr 1     890.9\n",
       "1   2023 Qtr 2     906.2"
      ]
     },
     "execution_count": 179,
     "metadata": {},
     "output_type": "execute_result"
    }
   ],
   "source": [
    "#sorting by Value\n",
    "housing_clean = housing_clean.sort_values('index')\n",
    "#removing column name for neatness\n",
    "housing_clean.columns=['','Australia']\n",
    "housing_clean"
   ]
  },
  {
   "cell_type": "code",
   "execution_count": 180,
   "id": "8d1720cc",
   "metadata": {},
   "outputs": [],
   "source": [
    "#exporting file\n",
    "housing_clean.to_csv('housing_clean.csv', index = False)"
   ]
  },
  {
   "cell_type": "code",
   "execution_count": null,
   "id": "cc8ee9c9",
   "metadata": {},
   "outputs": [],
   "source": []
  }
 ],
 "metadata": {
  "kernelspec": {
   "display_name": "Python 3 (ipykernel)",
   "language": "python",
   "name": "python3"
  },
  "language_info": {
   "codemirror_mode": {
    "name": "ipython",
    "version": 3
   },
   "file_extension": ".py",
   "mimetype": "text/x-python",
   "name": "python",
   "nbconvert_exporter": "python",
   "pygments_lexer": "ipython3",
   "version": "3.11.5"
  }
 },
 "nbformat": 4,
 "nbformat_minor": 5
}
