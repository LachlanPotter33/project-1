{
 "cells": [
  {
   "cell_type": "code",
   "execution_count": 22,
   "id": "2e27c53a-86ae-40fa-8148-71a769fff8bf",
   "metadata": {
    "tags": []
   },
   "outputs": [],
   "source": [
    "from pathlib import Path\n",
    "import pandas as pd\n",
    "import matplotlib.pyplot as plt\n",
    "import numpy as np"
   ]
  },
  {
   "cell_type": "code",
   "execution_count": 23,
   "id": "e367390d-6897-4007-b910-23783d15eb10",
   "metadata": {
    "tags": []
   },
   "outputs": [],
   "source": [
    "cpi_csv = Path(\"project-1-draft/Data/CPI Australia.csv\")\n",
    "inflation_csv = Path(\"project-1-draft/Data/Inflation Tradable & Non-tradable, annual movement (%).csv\")"
   ]
  },
  {
   "cell_type": "code",
   "execution_count": 24,
   "id": "cef3b388-f6fa-4eb7-9c41-508f32e13545",
   "metadata": {
    "tags": []
   },
   "outputs": [],
   "source": [
    "cpi_df = pd.read_csv(cpi_csv)\n",
    "inflation_df = pd.read_csv(inflation_csv)"
   ]
  },
  {
   "cell_type": "code",
   "execution_count": 25,
   "id": "3d57e7fa-c964-4a0b-bc14-2839bb08cf7f",
   "metadata": {
    "tags": []
   },
   "outputs": [
    {
     "data": {
      "text/html": [
       "<div>\n",
       "<style scoped>\n",
       "    .dataframe tbody tr th:only-of-type {\n",
       "        vertical-align: middle;\n",
       "    }\n",
       "\n",
       "    .dataframe tbody tr th {\n",
       "        vertical-align: top;\n",
       "    }\n",
       "\n",
       "    .dataframe thead th {\n",
       "        text-align: right;\n",
       "    }\n",
       "</style>\n",
       "<table border=\"1\" class=\"dataframe\">\n",
       "  <thead>\n",
       "    <tr style=\"text-align: right;\">\n",
       "      <th></th>\n",
       "      <th>Date</th>\n",
       "      <th>Index Numbers</th>\n",
       "      <th>Percent</th>\n",
       "      <th>Percent.1</th>\n",
       "    </tr>\n",
       "  </thead>\n",
       "  <tbody>\n",
       "    <tr>\n",
       "      <th>0</th>\n",
       "      <td>Dec-18</td>\n",
       "      <td>114.1</td>\n",
       "      <td>1.8</td>\n",
       "      <td>0.5</td>\n",
       "    </tr>\n",
       "    <tr>\n",
       "      <th>1</th>\n",
       "      <td>Dec-19</td>\n",
       "      <td>116.2</td>\n",
       "      <td>1.8</td>\n",
       "      <td>0.7</td>\n",
       "    </tr>\n",
       "    <tr>\n",
       "      <th>2</th>\n",
       "      <td>Dec-20</td>\n",
       "      <td>117.2</td>\n",
       "      <td>0.9</td>\n",
       "      <td>0.9</td>\n",
       "    </tr>\n",
       "    <tr>\n",
       "      <th>3</th>\n",
       "      <td>Dec-21</td>\n",
       "      <td>121.3</td>\n",
       "      <td>3.5</td>\n",
       "      <td>1.3</td>\n",
       "    </tr>\n",
       "    <tr>\n",
       "      <th>4</th>\n",
       "      <td>Dec-22</td>\n",
       "      <td>130.8</td>\n",
       "      <td>7.8</td>\n",
       "      <td>1.9</td>\n",
       "    </tr>\n",
       "  </tbody>\n",
       "</table>\n",
       "</div>"
      ],
      "text/plain": [
       "     Date  Index Numbers  Percent  Percent.1\n",
       "0  Dec-18          114.1      1.8        0.5\n",
       "1  Dec-19          116.2      1.8        0.7\n",
       "2  Dec-20          117.2      0.9        0.9\n",
       "3  Dec-21          121.3      3.5        1.3\n",
       "4  Dec-22          130.8      7.8        1.9"
      ]
     },
     "execution_count": 25,
     "metadata": {},
     "output_type": "execute_result"
    }
   ],
   "source": [
    "cpi_df.head()"
   ]
  },
  {
   "cell_type": "code",
   "execution_count": 26,
   "id": "e33a10da-f163-48e7-9d10-eb1f7df8229f",
   "metadata": {
    "tags": []
   },
   "outputs": [
    {
     "data": {
      "text/html": [
       "<div>\n",
       "<style scoped>\n",
       "    .dataframe tbody tr th:only-of-type {\n",
       "        vertical-align: middle;\n",
       "    }\n",
       "\n",
       "    .dataframe tbody tr th {\n",
       "        vertical-align: top;\n",
       "    }\n",
       "\n",
       "    .dataframe thead th {\n",
       "        text-align: right;\n",
       "    }\n",
       "</style>\n",
       "<table border=\"1\" class=\"dataframe\">\n",
       "  <thead>\n",
       "    <tr style=\"text-align: right;\">\n",
       "      <th></th>\n",
       "      <th>Date</th>\n",
       "      <th>Tradables</th>\n",
       "      <th>Non-tradables</th>\n",
       "      <th>Unnamed: 3</th>\n",
       "      <th>Unnamed: 4</th>\n",
       "      <th>Unnamed: 5</th>\n",
       "      <th>Source: Australian Bureau of Statistics, Consumer Price Index, Australia December Quarter 2023</th>\n",
       "    </tr>\n",
       "  </thead>\n",
       "  <tbody>\n",
       "    <tr>\n",
       "      <th>0</th>\n",
       "      <td>Dec-18</td>\n",
       "      <td>0.6</td>\n",
       "      <td>2.4</td>\n",
       "      <td>NaN</td>\n",
       "      <td>NaN</td>\n",
       "      <td>NaN</td>\n",
       "      <td>NaN</td>\n",
       "    </tr>\n",
       "    <tr>\n",
       "      <th>1</th>\n",
       "      <td>Dec-19</td>\n",
       "      <td>1.7</td>\n",
       "      <td>2.0</td>\n",
       "      <td>NaN</td>\n",
       "      <td>NaN</td>\n",
       "      <td>NaN</td>\n",
       "      <td>NaN</td>\n",
       "    </tr>\n",
       "    <tr>\n",
       "      <th>2</th>\n",
       "      <td>Dec-20</td>\n",
       "      <td>-0.6</td>\n",
       "      <td>1.5</td>\n",
       "      <td>NaN</td>\n",
       "      <td>NaN</td>\n",
       "      <td>NaN</td>\n",
       "      <td>NaN</td>\n",
       "    </tr>\n",
       "    <tr>\n",
       "      <th>3</th>\n",
       "      <td>Dec-21</td>\n",
       "      <td>4.9</td>\n",
       "      <td>2.8</td>\n",
       "      <td>NaN</td>\n",
       "      <td>NaN</td>\n",
       "      <td>NaN</td>\n",
       "      <td>NaN</td>\n",
       "    </tr>\n",
       "    <tr>\n",
       "      <th>4</th>\n",
       "      <td>Dec-22</td>\n",
       "      <td>8.7</td>\n",
       "      <td>7.4</td>\n",
       "      <td>NaN</td>\n",
       "      <td>NaN</td>\n",
       "      <td>NaN</td>\n",
       "      <td>NaN</td>\n",
       "    </tr>\n",
       "  </tbody>\n",
       "</table>\n",
       "</div>"
      ],
      "text/plain": [
       "     Date  Tradables  Non-tradables  Unnamed: 3  Unnamed: 4  Unnamed: 5  \\\n",
       "0  Dec-18        0.6            2.4         NaN         NaN         NaN   \n",
       "1  Dec-19        1.7            2.0         NaN         NaN         NaN   \n",
       "2  Dec-20       -0.6            1.5         NaN         NaN         NaN   \n",
       "3  Dec-21        4.9            2.8         NaN         NaN         NaN   \n",
       "4  Dec-22        8.7            7.4         NaN         NaN         NaN   \n",
       "\n",
       "   Source: Australian Bureau of Statistics, Consumer Price Index, Australia December Quarter 2023  \n",
       "0                                                NaN                                               \n",
       "1                                                NaN                                               \n",
       "2                                                NaN                                               \n",
       "3                                                NaN                                               \n",
       "4                                                NaN                                               "
      ]
     },
     "execution_count": 26,
     "metadata": {},
     "output_type": "execute_result"
    }
   ],
   "source": [
    "inflation_df.head()"
   ]
  },
  {
   "cell_type": "code",
   "execution_count": 27,
   "id": "fdde8bfa-a651-4c2c-aba4-63bb148e579c",
   "metadata": {
    "tags": []
   },
   "outputs": [],
   "source": [
    "cpi_data = {'Date_cpi': ['Dec-18', 'Dec-19', 'Dec-20', 'Dec-21', 'Dec-22', 'Dec-23'], 'Value_cpi': [1.8, 1.8, 0.9, 3.5, 7.8, 4.1]}\n",
    "inflation_data = {'Date_inflation': ['Dec-18', 'Dec-19', 'Dec-20', 'Dec-21', 'Dec-22', 'Dec-23'], 'Value_inflation': [1.5, 1.85, 0.45, 3.85, 8.05, 3.45]}\n",
    "\n",
    "\n",
    "cpi_df = pd.DataFrame(cpi_data)\n",
    "inflation_df = pd.DataFrame(inflation_data)"
   ]
  },
  {
   "cell_type": "code",
   "execution_count": 28,
   "id": "7ac805dc-63c6-406a-998c-3f9f9bc8c699",
   "metadata": {
    "tags": []
   },
   "outputs": [
    {
     "data": {
      "text/html": [
       "<div>\n",
       "<style scoped>\n",
       "    .dataframe tbody tr th:only-of-type {\n",
       "        vertical-align: middle;\n",
       "    }\n",
       "\n",
       "    .dataframe tbody tr th {\n",
       "        vertical-align: top;\n",
       "    }\n",
       "\n",
       "    .dataframe thead th {\n",
       "        text-align: right;\n",
       "    }\n",
       "</style>\n",
       "<table border=\"1\" class=\"dataframe\">\n",
       "  <thead>\n",
       "    <tr style=\"text-align: right;\">\n",
       "      <th></th>\n",
       "      <th>Date_cpi</th>\n",
       "      <th>Value_cpi</th>\n",
       "      <th>Date_inflation</th>\n",
       "      <th>Value_inflation</th>\n",
       "    </tr>\n",
       "  </thead>\n",
       "  <tbody>\n",
       "    <tr>\n",
       "      <th>0</th>\n",
       "      <td>Dec-18</td>\n",
       "      <td>1.8</td>\n",
       "      <td>Dec-18</td>\n",
       "      <td>1.50</td>\n",
       "    </tr>\n",
       "    <tr>\n",
       "      <th>1</th>\n",
       "      <td>Dec-19</td>\n",
       "      <td>1.8</td>\n",
       "      <td>Dec-19</td>\n",
       "      <td>1.85</td>\n",
       "    </tr>\n",
       "    <tr>\n",
       "      <th>2</th>\n",
       "      <td>Dec-20</td>\n",
       "      <td>0.9</td>\n",
       "      <td>Dec-20</td>\n",
       "      <td>0.45</td>\n",
       "    </tr>\n",
       "    <tr>\n",
       "      <th>3</th>\n",
       "      <td>Dec-21</td>\n",
       "      <td>3.5</td>\n",
       "      <td>Dec-21</td>\n",
       "      <td>3.85</td>\n",
       "    </tr>\n",
       "    <tr>\n",
       "      <th>4</th>\n",
       "      <td>Dec-22</td>\n",
       "      <td>7.8</td>\n",
       "      <td>Dec-22</td>\n",
       "      <td>8.05</td>\n",
       "    </tr>\n",
       "    <tr>\n",
       "      <th>5</th>\n",
       "      <td>Dec-23</td>\n",
       "      <td>4.1</td>\n",
       "      <td>Dec-23</td>\n",
       "      <td>3.45</td>\n",
       "    </tr>\n",
       "  </tbody>\n",
       "</table>\n",
       "</div>"
      ],
      "text/plain": [
       "  Date_cpi  Value_cpi Date_inflation  Value_inflation\n",
       "0   Dec-18        1.8         Dec-18             1.50\n",
       "1   Dec-19        1.8         Dec-19             1.85\n",
       "2   Dec-20        0.9         Dec-20             0.45\n",
       "3   Dec-21        3.5         Dec-21             3.85\n",
       "4   Dec-22        7.8         Dec-22             8.05\n",
       "5   Dec-23        4.1         Dec-23             3.45"
      ]
     },
     "execution_count": 28,
     "metadata": {},
     "output_type": "execute_result"
    }
   ],
   "source": [
    "\n",
    "data_df = pd.merge(cpi_df, inflation_df, left_on='Date_cpi', right_on='Date_inflation')\n",
    "\n",
    "data_df\n"
   ]
  },
  {
   "cell_type": "code",
   "execution_count": 29,
   "id": "3df95eb7-36d8-41ef-935e-e40ce06e8383",
   "metadata": {
    "tags": []
   },
   "outputs": [
    {
     "ename": "NameError",
     "evalue": "name 'Date_cpi' is not defined",
     "output_type": "error",
     "traceback": [
      "\u001b[1;31m---------------------------------------------------------------------------\u001b[0m",
      "\u001b[1;31mNameError\u001b[0m                                 Traceback (most recent call last)",
      "Cell \u001b[1;32mIn[29], line 4\u001b[0m\n\u001b[0;32m      1\u001b[0m x_axis \u001b[38;5;241m=\u001b[39m np\u001b[38;5;241m.\u001b[39marange(\u001b[38;5;241m0\u001b[39m, \u001b[38;5;241m9\u001b[39m, \u001b[38;5;241m0.1\u001b[39m)\n\u001b[0;32m      2\u001b[0m x_axis\n\u001b[1;32m----> 4\u001b[0m plt\u001b[38;5;241m.\u001b[39mplot(x_axis, Date_cpi)\n\u001b[0;32m      6\u001b[0m plt\u001b[38;5;241m.\u001b[39mshow()\n",
      "\u001b[1;31mNameError\u001b[0m: name 'Date_cpi' is not defined"
     ]
    }
   ],
   "source": [
    "x_axis = np.arange(0, 9, 0.1)\n",
    "x_axis\n",
    "\n",
    "plt.plot(x_axis, Date_cpi)\n",
    "\n",
    "plt.show()"
   ]
  },
  {
   "cell_type": "code",
   "execution_count": null,
   "id": "1b69dd9c-9870-429a-92a7-4f2fe43b3687",
   "metadata": {},
   "outputs": [],
   "source": []
  }
 ],
 "metadata": {
  "kernelspec": {
   "display_name": "Python 3 (ipykernel)",
   "language": "python",
   "name": "python3"
  },
  "language_info": {
   "codemirror_mode": {
    "name": "ipython",
    "version": 3
   },
   "file_extension": ".py",
   "mimetype": "text/x-python",
   "name": "python",
   "nbconvert_exporter": "python",
   "pygments_lexer": "ipython3",
   "version": "3.11.5"
  }
 },
 "nbformat": 4,
 "nbformat_minor": 5
}
