{
 "cells": [
  {
   "cell_type": "code",
   "execution_count": 1,
   "id": "4ec73340-c67a-47a6-9a7b-a11bbbe10cb4",
   "metadata": {
    "tags": []
   },
   "outputs": [],
   "source": [
    "import requests\n",
    "import json\n",
    "from config import api_key"
   ]
  },
  {
   "cell_type": "code",
   "execution_count": 42,
   "id": "8efba03d-d15f-41f0-a78b-1c1b5fad14ab",
   "metadata": {
    "tags": []
   },
   "outputs": [],
   "source": [
    "url = \"https://api.tradingeconomics.com/historical/country/australia/indicator/consumer%20spending?c=Your_Key:Your_Secret\"\n"
   ]
  },
  {
   "cell_type": "code",
   "execution_count": 43,
   "id": "1c4cd0e9-5bc4-450a-9570-51ecd4faee79",
   "metadata": {
    "tags": []
   },
   "outputs": [
    {
     "name": "stdout",
     "output_type": "stream",
     "text": [
      "https://api.tradingeconomics.com/historical/country/australia/indicator/consumer%20spending?c=Your_Key:Your_Secret\n"
     ]
    }
   ],
   "source": [
    "print(url)"
   ]
  },
  {
   "cell_type": "code",
   "execution_count": 44,
   "id": "775e0db5-b027-49d8-85de-3578998b6901",
   "metadata": {
    "tags": []
   },
   "outputs": [],
   "source": [
    "response=requests.get(url)"
   ]
  },
  {
   "cell_type": "code",
   "execution_count": 45,
   "id": "620d3cd6-2355-4bf5-beb4-ea70c2a8b13c",
   "metadata": {
    "tags": []
   },
   "outputs": [
    {
     "data": {
      "text/plain": [
       "<Response [401]>"
      ]
     },
     "execution_count": 45,
     "metadata": {},
     "output_type": "execute_result"
    }
   ],
   "source": [
    "response"
   ]
  },
  {
   "cell_type": "code",
   "execution_count": null,
   "id": "1bc304a6-4455-442d-9216-7bec7f3803d6",
   "metadata": {},
   "outputs": [],
   "source": []
  }
 ],
 "metadata": {
  "kernelspec": {
   "display_name": "Python 3 (ipykernel)",
   "language": "python",
   "name": "python3"
  },
  "language_info": {
   "codemirror_mode": {
    "name": "ipython",
    "version": 3
   },
   "file_extension": ".py",
   "mimetype": "text/x-python",
   "name": "python",
   "nbconvert_exporter": "python",
   "pygments_lexer": "ipython3",
   "version": "3.11.5"
  }
 },
 "nbformat": 4,
 "nbformat_minor": 5
}
